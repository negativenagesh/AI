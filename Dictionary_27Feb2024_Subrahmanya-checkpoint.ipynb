{
 "cells": [
  {
   "cell_type": "code",
   "execution_count": 58,
   "id": "83f6da93",
   "metadata": {},
   "outputs": [
    {
     "name": "stdout",
     "output_type": "stream",
     "text": [
      "{'name': 'Kiran', 'age': 55, 'height': 5.8, 'occupation': 'student'}\n",
      "<class 'dict'>\n",
      "Kiran\n",
      "length is 4\n"
     ]
    }
   ],
   "source": [
    "dict={}\n",
    "dict={'name':'Kiran','age':55,\n",
    "      \"height\":5.8,\n",
    "      \"occupation\":\"student\"\n",
    "      }\n",
    "print(dict)\n",
    "print(type(dict))\n",
    "print(dict['name'])\n",
    "print(\"length is \"+str(len(dict)))"
   ]
  },
  {
   "cell_type": "code",
   "execution_count": 59,
   "id": "b5c23a66",
   "metadata": {},
   "outputs": [
    {
     "name": "stdout",
     "output_type": "stream",
     "text": [
      "{'k1': 1, 'k2': '2', 'k3': [3, 3, 3], 'k4': (4, 4, 4), 'k5': 5, 'k6': [6, 6, 6, 6, 6, 6]}\n"
     ]
    }
   ],
   "source": [
    "dict1={\n",
    "    \"k1\":1,\n",
    "    \"k2\":'2',\n",
    "    \"k3\":[3,3,3],\n",
    "    \"k4\":(4,4,4),\n",
    "    \"k5\":5,\n",
    "    \"k6\":[6,6,6,6,6,6]\n",
    "}\n",
    "print(dict1)"
   ]
  },
  {
   "cell_type": "code",
   "execution_count": 60,
   "id": "d9c012f0",
   "metadata": {},
   "outputs": [
    {
     "name": "stdout",
     "output_type": "stream",
     "text": [
      "[6, 6, 6, 6, 6, 6]\n",
      "Kiran\n",
      "55\n"
     ]
    }
   ],
   "source": [
    "print(dict1['k6'])\n",
    "print(dict['name'])\n",
    "print(dict['age'])"
   ]
  },
  {
   "cell_type": "code",
   "execution_count": 61,
   "id": "10621323",
   "metadata": {},
   "outputs": [
    {
     "name": "stdout",
     "output_type": "stream",
     "text": [
      "(4, 4, 4)\n"
     ]
    }
   ],
   "source": [
    "print(dict1.get('k4'))"
   ]
  },
  {
   "cell_type": "code",
   "execution_count": 62,
   "id": "c43d7b25",
   "metadata": {},
   "outputs": [
    {
     "name": "stdout",
     "output_type": "stream",
     "text": [
      "k1: 1\n",
      "k2: 2\n",
      "k3: [3, 3, 3]\n",
      "k4: (4, 4, 4)\n",
      "k5: 5\n",
      "k6: [6, 6, 6, 6, 6, 6]\n"
     ]
    }
   ],
   "source": [
    "\n",
    "for key, value in dict1.items():\n",
    "\tprint(f\"{key}: {value}\")\n"
   ]
  },
  {
   "cell_type": "code",
   "execution_count": 63,
   "id": "b8b4de74",
   "metadata": {},
   "outputs": [
    {
     "name": "stdout",
     "output_type": "stream",
     "text": [
      "1982\n",
      "length is 8\n",
      "thriller:1982\n",
      "back in black:1980\n",
      "the dark side of the moon:1973\n",
      "bodyguard:1992\n",
      "bat out of hell:1977\n",
      "their greatest hits(1971-1975):1976\n",
      "saturday night fever:1977\n",
      "rumours:1977\n"
     ]
    }
   ],
   "source": [
    "releaseyeard={\n",
    "    \"thriller\":\"1982\",\n",
    "    \"back in black\":\"1980\",\n",
    "    \"the dark side of the moon\":\"1973\",\n",
    "    \"bodyguard\":\"1992\",\n",
    "    \"bat out of hell\":\"1977\",\n",
    "    \"their greatest hits(1971-1975)\":\"1976\",\n",
    "    \"saturday night fever\":\"1977\",\n",
    "    'rumours':\"1977\"\n",
    "}\n",
    "print(releaseyeard[\"thriller\"])\n",
    "print(\"length is \"+str(len(releaseyeard)))\n",
    "\n",
    "for i,v in releaseyeard.items():\n",
    "    print(f\"{i}:{v}\")"
   ]
  },
  {
   "cell_type": "code",
   "execution_count": 64,
   "id": "c54e7fb1",
   "metadata": {},
   "outputs": [],
   "source": [
    "del(dict['age'])"
   ]
  },
  {
   "cell_type": "code",
   "execution_count": 65,
   "id": "49694a8c",
   "metadata": {},
   "outputs": [
    {
     "name": "stdout",
     "output_type": "stream",
     "text": [
      "{'name': 'Kiran', 'height': 5.8, 'occupation': 'student'}\n"
     ]
    }
   ],
   "source": [
    "print(dict)"
   ]
  },
  {
   "cell_type": "code",
   "execution_count": 66,
   "id": "7bced68a",
   "metadata": {},
   "outputs": [
    {
     "name": "stdout",
     "output_type": "stream",
     "text": [
      "1\n"
     ]
    }
   ],
   "source": [
    "print(dict1.pop('k1'))"
   ]
  },
  {
   "cell_type": "code",
   "execution_count": 67,
   "id": "d1701d46",
   "metadata": {},
   "outputs": [
    {
     "data": {
      "text/plain": [
       "'1982'"
      ]
     },
     "execution_count": 67,
     "metadata": {},
     "output_type": "execute_result"
    }
   ],
   "source": [
    "releaseyeard[\"thriller\"]"
   ]
  },
  {
   "cell_type": "code",
   "execution_count": 68,
   "id": "f762842a",
   "metadata": {},
   "outputs": [
    {
     "data": {
      "text/plain": [
       "dict_keys(['thriller', 'back in black', 'the dark side of the moon', 'bodyguard', 'bat out of hell', 'their greatest hits(1971-1975)', 'saturday night fever', 'rumours'])"
      ]
     },
     "execution_count": 68,
     "metadata": {},
     "output_type": "execute_result"
    }
   ],
   "source": [
    "releaseyeard.keys()"
   ]
  },
  {
   "cell_type": "markdown",
   "id": "08b50c3b",
   "metadata": {},
   "source": [
    "releaseyear"
   ]
  },
  {
   "cell_type": "code",
   "execution_count": 69,
   "id": "c472b30f",
   "metadata": {},
   "outputs": [
    {
     "name": "stdout",
     "output_type": "stream",
     "text": [
      "dict_keys(['thriller', 'back in black', 'the dark side of the moon', 'bodyguard', 'bat out of hell', 'their greatest hits(1971-1975)', 'saturday night fever', 'rumours'])\n",
      "<class 'dict_keys'>\n"
     ]
    }
   ],
   "source": [
    "d=releaseyeard.keys()\n",
    "print(d)\n",
    "print(type(d))"
   ]
  },
  {
   "cell_type": "code",
   "execution_count": 70,
   "id": "98eb8df9",
   "metadata": {},
   "outputs": [
    {
     "data": {
      "text/plain": [
       "dict_values(['1982', '1980', '1973', '1992', '1977', '1976', '1977', '1977'])"
      ]
     },
     "execution_count": 70,
     "metadata": {},
     "output_type": "execute_result"
    }
   ],
   "source": [
    "releaseyeard.values()"
   ]
  },
  {
   "cell_type": "code",
   "execution_count": 71,
   "id": "dda09c8c",
   "metadata": {},
   "outputs": [
    {
     "name": "stdout",
     "output_type": "stream",
     "text": [
      "dict_values(['2', [3, 3, 3], (4, 4, 4), 5, [6, 6, 6, 6, 6, 6]])\n",
      "dict_values(['2', [3, 3, 3], (4, 4, 4), 5, [6, 6, 6, 6, 6, 6]])\n",
      "dict_values(['2', [3, 3, 3], (4, 4, 4), 5, [6, 6, 6, 6, 6, 6]])\n",
      "dict_values(['2', [3, 3, 3], (4, 4, 4), 5, [6, 6, 6, 6, 6, 6]])\n",
      "dict_values(['2', [3, 3, 3], (4, 4, 4), 5, [6, 6, 6, 6, 6, 6]])\n",
      "k2\n",
      "k3\n",
      "k4\n",
      "k5\n",
      "k6\n",
      "thriller\n",
      "back in black\n",
      "the dark side of the moon\n",
      "bodyguard\n",
      "bat out of hell\n",
      "their greatest hits(1971-1975)\n",
      "saturday night fever\n",
      "rumours\n"
     ]
    }
   ],
   "source": [
    "for i in dict1:\n",
    "    print(dict1.values())\n",
    "    \n",
    "for j in dict1:\n",
    "    print(j)\n",
    "    \n",
    "for r in releaseyeard:\n",
    "    print(r)"
   ]
  },
  {
   "cell_type": "code",
   "execution_count": 72,
   "id": "b20ed586",
   "metadata": {},
   "outputs": [
    {
     "data": {
      "text/plain": [
       "{'thriller': '1982',\n",
       " 'back in black': '1980',\n",
       " 'the dark side of the moon': '1973',\n",
       " 'bodyguard': '1992',\n",
       " 'bat out of hell': '1977',\n",
       " 'their greatest hits(1971-1975)': '1976',\n",
       " 'saturday night fever': '1977',\n",
       " 'rumours': '1977',\n",
       " 'akash': 2012}"
      ]
     },
     "execution_count": 72,
     "metadata": {},
     "output_type": "execute_result"
    }
   ],
   "source": [
    "releaseyeard[\"akash\"]=2012\n",
    "releaseyeard"
   ]
  },
  {
   "cell_type": "code",
   "execution_count": 73,
   "id": "e153b9f7",
   "metadata": {},
   "outputs": [
    {
     "name": "stdout",
     "output_type": "stream",
     "text": [
      "True its there\n"
     ]
    }
   ],
   "source": [
    "\n",
    "print(str('back in black' in releaseyeard)+\" its there\")"
   ]
  },
  {
   "cell_type": "code",
   "execution_count": 74,
   "id": "56db2fc8",
   "metadata": {},
   "outputs": [
    {
     "name": "stdout",
     "output_type": "stream",
     "text": [
      "['akash', 'back in black', 'bat out of hell', 'bodyguard', 'rumours', 'saturday night fever', 'the dark side of the moon', 'their greatest hits(1971-1975)', 'thriller']\n",
      "['thriller', 'their greatest hits(1971-1975)', 'the dark side of the moon', 'saturday night fever', 'rumours', 'bodyguard', 'bat out of hell', 'back in black', 'akash']\n"
     ]
    }
   ],
   "source": [
    "print(sorted(releaseyeard))\n",
    "print(sorted(releaseyeard,reverse=True))\n"
   ]
  },
  {
   "cell_type": "code",
   "execution_count": 75,
   "id": "da8ef45a",
   "metadata": {},
   "outputs": [
    {
     "name": "stdout",
     "output_type": "stream",
     "text": [
      "{'k2': '2', 'k3': [3, 3, 3], 'k4': (4, 4, 4), 'k5': 5, 'k6': [6, 6, 6, 6, 6, 6]}\n"
     ]
    }
   ],
   "source": [
    "dict2={}\n",
    "\n",
    "dict2=dict1.copy()\n",
    "print(dict2)\n"
   ]
  },
  {
   "cell_type": "code",
   "execution_count": 76,
   "id": "40983e15",
   "metadata": {},
   "outputs": [
    {
     "data": {
      "text/plain": [
       "dict_keys(['bodyguard', 'saturday night fever'])"
      ]
     },
     "execution_count": 76,
     "metadata": {},
     "output_type": "execute_result"
    }
   ],
   "source": [
    "soundtrackdic={\n",
    "    \"bodyguard\":\"1992\",\n",
    "    \"saturday night fever\":\"1977\"\n",
    "}\n",
    "soundtrackdic.keys()"
   ]
  },
  {
   "cell_type": "code",
   "execution_count": 77,
   "id": "95f4a515",
   "metadata": {},
   "outputs": [
    {
     "data": {
      "text/plain": [
       "dict_values(['1992', '1977'])"
      ]
     },
     "execution_count": 77,
     "metadata": {},
     "output_type": "execute_result"
    }
   ],
   "source": [
    "soundtrackdic.values()"
   ]
  },
  {
   "cell_type": "code",
   "execution_count": 78,
   "id": "5efcef5e",
   "metadata": {},
   "outputs": [
    {
     "data": {
      "text/plain": [
       "{'bodyguard': '50 mil', 'back in black': '50 mil', 'thriller': '65 mil'}"
      ]
     },
     "execution_count": 78,
     "metadata": {},
     "output_type": "execute_result"
    }
   ],
   "source": [
    "salesdict={\n",
    "    \"bodyguard\":\"50 mil\",\n",
    "    \"back in black\":\"50 mil\",\n",
    "    \"thriller\":\"65 mil\"\n",
    "}\n",
    "salesdict"
   ]
  },
  {
   "cell_type": "code",
   "execution_count": 79,
   "id": "175ff1d0",
   "metadata": {},
   "outputs": [
    {
     "data": {
      "text/plain": [
       "'65 mil'"
      ]
     },
     "execution_count": 79,
     "metadata": {},
     "output_type": "execute_result"
    }
   ],
   "source": [
    "salesdict[\"thriller\"]"
   ]
  },
  {
   "cell_type": "code",
   "execution_count": 80,
   "id": "c05c7cdf",
   "metadata": {},
   "outputs": [
    {
     "data": {
      "text/plain": [
       "dict_values(['50 mil', '50 mil', '65 mil'])"
      ]
     },
     "execution_count": 80,
     "metadata": {},
     "output_type": "execute_result"
    }
   ],
   "source": [
    "salesdict.values()"
   ]
  },
  {
   "cell_type": "code",
   "execution_count": 85,
   "id": "997d3704",
   "metadata": {},
   "outputs": [
    {
     "name": "stdout",
     "output_type": "stream",
     "text": [
      "name: D\n",
      "DOB: 2004\n",
      "status: Middle class\n",
      "Salary: 10000000000\n",
      "{'name': 'D', 'DOB': 2004, 'Status': 'Middle class', 'Salary': '10000000000'}\n"
     ]
    }
   ],
   "source": [
    "details={\n",
    "    \"name\":input(\"name: \"),\n",
    "    \"DOB\":int(input(\"DOB: \")),\n",
    "    \"Status\":input(\"status: \"),\n",
    "    \"Salary\":input(\"Salary: \")\n",
    "}\n",
    "print(details)"
   ]
  },
  {
   "cell_type": "code",
   "execution_count": null,
   "id": "c9076035",
   "metadata": {},
   "outputs": [],
   "source": []
  }
 ],
 "metadata": {
  "kernelspec": {
   "display_name": "Python 3 (ipykernel)",
   "language": "python",
   "name": "python3"
  },
  "language_info": {
   "codemirror_mode": {
    "name": "ipython",
    "version": 3
   },
   "file_extension": ".py",
   "mimetype": "text/x-python",
   "name": "python",
   "nbconvert_exporter": "python",
   "pygments_lexer": "ipython3",
   "version": "3.9.17"
  }
 },
 "nbformat": 4,
 "nbformat_minor": 5
}
