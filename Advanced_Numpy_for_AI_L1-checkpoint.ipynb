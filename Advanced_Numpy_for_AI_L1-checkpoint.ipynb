{
 "cells": [
  {
   "cell_type": "markdown",
   "metadata": {
    "id": "bD6A9f4D1QSL"
   },
   "source": [
    "# **Numpy**\n",
    "-----\n",
    "Numpy is the core library for scientific computing in Python. It provides a high-performance multidimensional array object, and tools for working with these arrays.\n",
    "## Arrays\n",
    "-----\n",
    "1. A numpy array is a grid of values, all of the same type, and is indexed by a tuple of nonnegative integers.\n",
    "2. The number of dimensions is the rank of the array;\n",
    "3. The shape of an array is a tuple of integers giving the size of the array along each dimension.\n",
    "4. We can initialize numpy arrays from nested Python lists, and access elements using square brackets:"
   ]
  },
  {
   "cell_type": "markdown",
   "metadata": {
    "id": "Y2ds7JaQy9NS"
   },
   "source": [
    "# NumPy Basics\n",
    "\n",
    "| Operator\t| Description |\n",
    "|:-----------|:-------------|\n",
    "| np.array([1,2,3])\t| 1d array|\n",
    "| np.array([(1,2,3),(4,5,6)])\t| 2d array|\n",
    "| np.arange(start,stop,step)\t| range array|\n",
    "\n",
    "\n",
    "![alt text](https://www.w3resource.com/w3r_images/python-numpy-arrays-image.png)\n",
    "\n",
    "# Placeholders\n",
    "\n",
    "Operator\t| Description\n",
    ":-----------|:-------------\n",
    "np.zeros((1,2))\t| Create and array filled with zeros\n",
    "np.ones((1,2))\t| Creates an array filled with ones\n",
    "np.random.random((5,5))\t| Creates random array\n",
    "np.empty((2,2))\t| Creates an empty array\n",
    "\n",
    "\n",
    "# Array\n",
    "\n",
    "Syntax\t| Description\n",
    ":-----------|:-------------\n",
    "array.shape\t| Dimensions (Rows,Columns)\n",
    "len(array)\t| Length of Array\n",
    "array.ndim\t| Number of Array Dimensions\n",
    "array.dtype\t| Data Type\n",
    "array.astype(type)\t| Converts to Data Type\n",
    "type(array)\t| Type of Array\n",
    "\n",
    "\n",
    "# Copying/Sorting\n",
    "\n",
    "Operators\t| Description\n",
    ":-----------|:-------------\n",
    "np.copy(array)\t| Creates copy of array\n",
    "other = array.copy()\t| Creates deep copy of array\n",
    "array.sort()\t| Sorts an array\n",
    "array.sort(axis=0)\t| Sorts axis of array\n",
    "\n",
    "\n",
    "# Array Manipulation\n",
    "\n",
    "# Adding or Removing Elements\n",
    "\n",
    "Operator\t| Description\n",
    ":-----------|:-------------\n",
    "np.append(a,b)\t| Append items to array\n",
    "np.insert(array, 1, 2, axis)\t| Insert items into array at axis 0 or 1\n",
    "np.resize((2,4))\t| Resize array to shape(2,4)\n",
    "np.delete(array,1,axis)\t| Deletes items from array\n",
    "\n",
    "\n",
    "# Combining Arrays\n",
    "\n",
    "Operator\t| Description\n",
    ":-----------|:-------------\n",
    "np.concatenate((a,b),axis=0)\t| Concatenates 2 arrays, adds to end\n",
    "np.vstack((a,b))\t| Stack array row-wise\n",
    "np.hstack((a,b))\t| Stack array column wise\n",
    "\n",
    "# Splitting Arrays\n",
    "\n",
    "Operator\t| Description\n",
    ":-----------|:-------------\n",
    "numpy.split()\t| Split an array into multiple sub-arrays.\n",
    "np.array_split(array, 3)\t| Split an array in sub-arrays of (nearly) identical size\n",
    "numpy.hsplit(array, 3)\t| Split the array horizontally at 3rd index\n",
    "\n",
    "# More\n",
    "\n",
    "Operator\t| Description\n",
    ":-----------|:-------------\n",
    "other = ndarray.flatten()\t| Flattens a 2d array to 1d\n",
    "array = np.transpose(other)\n",
    "array.T\tTranspose array\n",
    "inverse = np.linalg.inv(matrix)\t| Inverse of a given matrix\n",
    "Mathematics\n",
    "\n",
    "# Operations\n",
    "\n",
    "Operator\t| Description\n",
    ":-----------|:-------------\n",
    "np.add(x,y)\n",
    "x + y\t| Addition\n",
    "np.substract(x,y)\n",
    "x - y\t| Subtraction\n",
    "np.divide(x,y)\n",
    "x / y\t| Division\n",
    "np.multiply(x,y)\n",
    "x @ y\t| Multiplication\n",
    "np.sqrt(x)\t| Square Root\n",
    "np.sin(x)\t| Element-wise sine\n",
    "np.cos(x)\t| Element-wise cosine\n",
    "np.log(x)\t| Element-wise natural log\n",
    "np.dot(x,y)\t| Dot product\n",
    "np.roots([1,0,-4])\t| Roots of a given polynomial coefficients\n",
    "\n",
    "# Comparison\n",
    "\n",
    "Operator\t| Description\n",
    ":-----------|:-------------\n",
    "==\t| Equal\n",
    "!=\t| Not equal\n",
    "<\t| Smaller than\n",
    ">\t| Greater than\n",
    "<=\t| Smaller than or equal\n",
    ">=\t| Greater than or equal\n",
    "np.array_equal(x,y)\t| Array-wise comparison\n",
    "\n",
    "# Basic Statistics\n",
    "\n",
    "Operator\t| Description\n",
    ":-----------|:-------------\n",
    "np.mean(array)\t| Mean\n",
    "np.median(array)\t| Median\n",
    "array.corrcoef()\t| Correlation Coefficient\n",
    "np.std(array)\t| Standard Deviation\n",
    "\n",
    "# More\n",
    "\n",
    "Operator\t| Description\n",
    ":-----------|:-------------\n",
    "array.sum()\t| Array-wise sum\n",
    "array.min()\t| Array-wise minimum value\n",
    "array.max(axis=0)\t| Maximum value of specified axis\n",
    "array.cumsum(axis=0)\t| Cumulative sum of specified axis\n",
    "\n",
    "# Slicing and Subsetting\n",
    "\n",
    "Operator\t| Description\n",
    ":-----------|:-------------\n",
    "array[i]\t| 1d array at index i\n",
    "array[i,j]\t| 2d array at index[i][j]\n",
    "array[i<4]\t| Boolean Indexing, see Tricks\n",
    "array[0:3]\t| Select items of index 0, 1 and 2\n",
    "array[0:2,1]\t| Select items of rows 0 and 1 at column 1\n",
    "array[:1]\t| Select items of row 0 (equals array[0:1, :])\n",
    "array[1:2, :]\t| Select items of row 1\n",
    "[comment]: <> | (\tarray[1,...]\n",
    "array[ : :-1]\t| Reverses array\n"
   ]
  },
  {
   "cell_type": "markdown",
   "metadata": {
    "id": "EyThnH7Z1hly"
   },
   "source": [
    "## 1. Installation"
   ]
  },
  {
   "cell_type": "code",
   "execution_count": null,
   "metadata": {
    "id": "LQmt-Oar02RT"
   },
   "outputs": [],
   "source": [
    "!pip install numpy"
   ]
  },
  {
   "cell_type": "code",
   "execution_count": null,
   "metadata": {
    "id": "KfZThiWS1RZt"
   },
   "outputs": [],
   "source": []
  },
  {
   "cell_type": "code",
   "execution_count": null,
   "metadata": {
    "id": "JiWey0-d2wM5"
   },
   "outputs": [],
   "source": []
  },
  {
   "cell_type": "code",
   "execution_count": null,
   "metadata": {
    "id": "2Dhn5bo42vj4"
   },
   "outputs": [],
   "source": [
    "!pip install numpy"
   ]
  },
  {
   "cell_type": "code",
   "execution_count": null,
   "metadata": {
    "id": "rAs7Uvtb2vj5"
   },
   "outputs": [],
   "source": []
  },
  {
   "cell_type": "markdown",
   "metadata": {
    "id": "8YWIPVxdy9NV"
   },
   "source": [
    "## 2. Creating arrays"
   ]
  },
  {
   "cell_type": "markdown",
   "metadata": {
    "id": "NSzrZK0Ey9NV"
   },
   "source": [
    "### 2.1. Manual construction of the arrays\n"
   ]
  },
  {
   "cell_type": "code",
   "execution_count": null,
   "metadata": {
    "id": "DWq7INcey9NV",
    "outputId": "7c39140f-21f6-4268-ab80-b494a49024d3"
   },
   "outputs": [
    {
     "data": {
      "text/plain": [
       "array([1, 2, 3, 4, 5])"
      ]
     },
     "execution_count": 2,
     "metadata": {},
     "output_type": "execute_result"
    }
   ],
   "source": [
    "#create 1 - D array #vector\n",
    "a = np.array([1,2,3,4,5])\n",
    "\n",
    "a"
   ]
  },
  {
   "cell_type": "code",
   "execution_count": null,
   "metadata": {
    "id": "_JgdHja5y9NW",
    "outputId": "52b7603c-3af8-4b54-dbb3-2ddf3764ed26"
   },
   "outputs": [
    {
     "data": {
      "text/plain": [
       "array([[1, 2, 3],\n",
       "       [4, 5, 6]])"
      ]
     },
     "execution_count": 6,
     "metadata": {},
     "output_type": "execute_result"
    }
   ],
   "source": [
    "#create 2-D array #matrix\n",
    "\n",
    "b = np.array([[1,2,3],[4,5,6]]) #list of lists\n",
    "\n",
    "b"
   ]
  },
  {
   "cell_type": "code",
   "execution_count": null,
   "metadata": {
    "id": "wbaIzSXoy9NX",
    "outputId": "96c528e7-ab94-48d9-d91f-9e744533e760"
   },
   "outputs": [
    {
     "data": {
      "text/plain": [
       "array([[[0, 1],\n",
       "        [2, 3]],\n",
       "\n",
       "       [[4, 5],\n",
       "        [6, 7]]])"
      ]
     },
     "execution_count": 15,
     "metadata": {},
     "output_type": "execute_result"
    }
   ],
   "source": [
    "#create 3 - D array #tensors\n",
    "\n",
    "c = np.array([[[0,1],[2,3]],[[4,5],[6,7]]])\n",
    "\n",
    "c"
   ]
  },
  {
   "cell_type": "markdown",
   "metadata": {
    "id": "MbDx5qaRy9NX"
   },
   "source": [
    "### 2.2. Functions for creating arrays"
   ]
  },
  {
   "cell_type": "code",
   "execution_count": null,
   "metadata": {
    "id": "kusGdEwXy9NX",
    "outputId": "0cdedce8-e2eb-4bbb-8932-c9d3365d9141"
   },
   "outputs": [
    {
     "data": {
      "text/plain": [
       "array([0, 1, 2, 3, 4, 5, 6, 7, 8, 9])"
      ]
     },
     "execution_count": 26,
     "metadata": {},
     "output_type": "execute_result"
    }
   ],
   "source": [
    "#using arange function\n",
    "\n",
    "a = np.arange(10)\n",
    "\n",
    "a"
   ]
  },
  {
   "cell_type": "code",
   "execution_count": null,
   "metadata": {
    "id": "ZhouLTa-y9NX",
    "outputId": "231d08b8-f551-4023-a118-0148465f4cf7"
   },
   "outputs": [
    {
     "data": {
      "text/plain": [
       "array([1, 3, 5, 7, 9])"
      ]
     },
     "execution_count": 27,
     "metadata": {},
     "output_type": "execute_result"
    }
   ],
   "source": [
    "b = np.arange(1,10,2) #start, end, step\n",
    "\n",
    "b"
   ]
  },
  {
   "cell_type": "markdown",
   "metadata": {
    "id": "uVoC26cTy9NY"
   },
   "source": [
    "## 3. Indexing and slicing"
   ]
  },
  {
   "cell_type": "markdown",
   "metadata": {
    "id": "m4KP9aI0y9NY"
   },
   "source": [
    "### 3.1. Indexing"
   ]
  },
  {
   "cell_type": "code",
   "execution_count": null,
   "metadata": {
    "id": "dvV4a6xGy9NY",
    "outputId": "5d51f340-d475-4883-fc73-c168bbcb5193"
   },
   "outputs": [
    {
     "name": "stdout",
     "output_type": "stream",
     "text": [
      "[0 1 2 3 4 5 6 7 8 9]\n",
      "5\n",
      "9\n"
     ]
    }
   ],
   "source": [
    "a = np.arange(10)\n",
    "\n",
    "print(a)\n",
    "print(a[5])\n",
    "print(a[-1])"
   ]
  },
  {
   "cell_type": "markdown",
   "metadata": {
    "id": "MLwaFiPuy9NY"
   },
   "source": [
    "### 3.2. Slicing"
   ]
  },
  {
   "cell_type": "code",
   "execution_count": null,
   "metadata": {
    "id": "qGt9Vg0Zy9NY",
    "outputId": "d1fedff5-7cf8-4fe0-8590-1f11a2a8532f"
   },
   "outputs": [
    {
     "name": "stdout",
     "output_type": "stream",
     "text": [
      "[1 3 5 7 9]\n"
     ]
    }
   ],
   "source": [
    "a = np.arange(10)\n",
    "\n",
    "print(a[1:10:2]) #[start_value: end_value(exclusive): step]"
   ]
  },
  {
   "cell_type": "code",
   "execution_count": null,
   "metadata": {
    "id": "RPeCNp22y9NY",
    "outputId": "53208489-ec61-433e-fb55-f747ee40eecb"
   },
   "outputs": [
    {
     "name": "stdout",
     "output_type": "stream",
     "text": [
      "[0 1 2 3 4 5 6 7 8 9]\n",
      "[ 0  1  2  3  4 10 10 10 10 10]\n"
     ]
    }
   ],
   "source": [
    "b = np.arange(10)\n",
    "print(b)\n",
    "\n",
    "b[5:] = 10 #assign 10 from index 5 to end\n",
    "\n",
    "print(b)"
   ]
  },
  {
   "cell_type": "markdown",
   "metadata": {
    "id": "5Ys_pE3e_Q8C"
   },
   "source": [
    "## 4. Array math\n",
    "\n",
    "Basic mathematical functions operate elementwise on arrays, and are available both as operator overloads and as functions in the numpy module:"
   ]
  },
  {
   "cell_type": "code",
   "execution_count": null,
   "metadata": {
    "ExecuteTime": {
     "end_time": "2021-07-03T19:41:31.644418Z",
     "start_time": "2021-07-03T19:41:31.633678Z"
    },
    "id": "UxXDu3qF_Q8D",
    "outputId": "2399ec9c-253f-4d38-d469-e5b5af66e719"
   },
   "outputs": [
    {
     "name": "stdout",
     "output_type": "stream",
     "text": [
      "[0 1 2 3 4 5]\n"
     ]
    }
   ],
   "source": [
    "import numpy as np\n",
    "\n",
    "a = np.array([0,1,2,3,4,5])\n",
    "#a = np.arange(0,6)\n",
    "print(a)"
   ]
  },
  {
   "cell_type": "code",
   "execution_count": null,
   "metadata": {
    "ExecuteTime": {
     "end_time": "2021-07-03T19:41:32.174691Z",
     "start_time": "2021-07-03T19:41:32.157113Z"
    },
    "id": "EVxTASlD_Q8E",
    "outputId": "0874a397-3cad-4d54-f3ae-8370b402dc58"
   },
   "outputs": [
    {
     "data": {
      "text/plain": [
       "array([2, 3, 4, 5, 6, 7])"
      ]
     },
     "execution_count": 2,
     "metadata": {},
     "output_type": "execute_result"
    }
   ],
   "source": [
    "a + 2"
   ]
  },
  {
   "cell_type": "code",
   "execution_count": null,
   "metadata": {
    "ExecuteTime": {
     "end_time": "2021-07-03T19:41:32.487187Z",
     "start_time": "2021-07-03T19:41:32.475471Z"
    },
    "id": "IK92jaqG_Q8F",
    "outputId": "f932cdb2-91e3-45b1-e843-e536d61ab890"
   },
   "outputs": [
    {
     "data": {
      "text/plain": [
       "array([-2, -1,  0,  1,  2,  3])"
      ]
     },
     "execution_count": 3,
     "metadata": {},
     "output_type": "execute_result"
    }
   ],
   "source": [
    "a - 2"
   ]
  },
  {
   "cell_type": "code",
   "execution_count": null,
   "metadata": {
    "ExecuteTime": {
     "end_time": "2021-07-03T19:41:32.737185Z",
     "start_time": "2021-07-03T19:41:32.720588Z"
    },
    "id": "972kuvDS_Q8G",
    "outputId": "0bd19ad9-e4e7-4888-d680-d7a0d07370f7"
   },
   "outputs": [
    {
     "data": {
      "text/plain": [
       "array([ 0,  2,  4,  6,  8, 10])"
      ]
     },
     "execution_count": 4,
     "metadata": {},
     "output_type": "execute_result"
    }
   ],
   "source": [
    "a * 2"
   ]
  },
  {
   "cell_type": "code",
   "execution_count": null,
   "metadata": {
    "ExecuteTime": {
     "end_time": "2021-07-03T19:41:32.955935Z",
     "start_time": "2021-07-03T19:41:32.935430Z"
    },
    "id": "WG603ppb_Q8G",
    "outputId": "842c18e7-fedc-4941-c0e6-3f5bb70dbc6f"
   },
   "outputs": [
    {
     "data": {
      "text/plain": [
       "array([0. , 0.5, 1. , 1.5, 2. , 2.5])"
      ]
     },
     "execution_count": 5,
     "metadata": {},
     "output_type": "execute_result"
    }
   ],
   "source": [
    "a / 2"
   ]
  },
  {
   "cell_type": "code",
   "execution_count": null,
   "metadata": {
    "ExecuteTime": {
     "end_time": "2021-07-03T19:41:33.158080Z",
     "start_time": "2021-07-03T19:41:33.139528Z"
    },
    "id": "8VA5hftb_Q8G",
    "outputId": "5aac28e5-d074-4d52-be34-1c08f7072d5e",
    "scrolled": true
   },
   "outputs": [
    {
     "data": {
      "text/plain": [
       "array([ 0,  2,  4,  6,  8, 10])"
      ]
     },
     "execution_count": 6,
     "metadata": {},
     "output_type": "execute_result"
    }
   ],
   "source": [
    "a + a"
   ]
  },
  {
   "cell_type": "code",
   "execution_count": null,
   "metadata": {
    "ExecuteTime": {
     "end_time": "2021-07-03T19:41:33.361207Z",
     "start_time": "2021-07-03T19:41:33.355351Z"
    },
    "id": "6ZMoMep-_Q8H",
    "outputId": "60d02461-f3dc-4b53-af24-9d28d003e571"
   },
   "outputs": [
    {
     "data": {
      "text/plain": [
       "array([ 0,  1,  4,  9, 16, 25])"
      ]
     },
     "execution_count": 7,
     "metadata": {},
     "output_type": "execute_result"
    }
   ],
   "source": [
    "a * a"
   ]
  },
  {
   "cell_type": "code",
   "execution_count": null,
   "metadata": {
    "ExecuteTime": {
     "end_time": "2021-07-03T19:41:33.939328Z",
     "start_time": "2021-07-03T19:41:33.931517Z"
    },
    "id": "rMhZa9y6_Q8H",
    "outputId": "77f3d706-d924-4fd0-e83f-0c8ca2f433a7"
   },
   "outputs": [
    {
     "data": {
      "text/plain": [
       "array([0, 0, 0, 0, 0, 0])"
      ]
     },
     "execution_count": 8,
     "metadata": {},
     "output_type": "execute_result"
    }
   ],
   "source": [
    "a - a"
   ]
  },
  {
   "cell_type": "code",
   "execution_count": null,
   "metadata": {
    "ExecuteTime": {
     "end_time": "2021-07-03T19:41:34.547725Z",
     "start_time": "2021-07-03T19:41:34.538934Z"
    },
    "id": "EhY5c8Nk_Q8J",
    "outputId": "7dce3546-05b8-43ce-d8a0-563ecbadaa12",
    "scrolled": true
   },
   "outputs": [
    {
     "data": {
      "text/plain": [
       "array([1, 1, 3, 3, 5, 5])"
      ]
     },
     "execution_count": 11,
     "metadata": {},
     "output_type": "execute_result"
    }
   ],
   "source": [
    "b = np.array([1,0,1,0,1,0])\n",
    "a + b"
   ]
  },
  {
   "cell_type": "code",
   "execution_count": null,
   "metadata": {
    "ExecuteTime": {
     "end_time": "2021-07-03T19:41:34.766473Z",
     "start_time": "2021-07-03T19:41:34.748895Z"
    },
    "id": "mZiGsoHV_Q8J",
    "outputId": "0a701e74-5220-4288-ea77-008810b7e7fd",
    "scrolled": true
   },
   "outputs": [
    {
     "data": {
      "text/plain": [
       "array([  0,   1,   8,  27,  64, 125], dtype=int32)"
      ]
     },
     "execution_count": 12,
     "metadata": {},
     "output_type": "execute_result"
    }
   ],
   "source": [
    "a ** 3"
   ]
  },
  {
   "cell_type": "markdown",
   "metadata": {
    "id": "o4ECVoMK_Q8L"
   },
   "source": [
    "### Universal  Array Functions (Mathematical operations)"
   ]
  },
  {
   "cell_type": "code",
   "execution_count": null,
   "metadata": {
    "ExecuteTime": {
     "end_time": "2021-07-03T19:41:35.140494Z",
     "start_time": "2021-07-03T19:41:35.132682Z"
    },
    "id": "CP7pYrlw_Q8M",
    "outputId": "ab395dfd-0ddf-4ef5-f0a9-7dbafe53f8ba"
   },
   "outputs": [
    {
     "data": {
      "text/plain": [
       "array([0.        , 1.        , 1.41421356, 1.73205081, 2.        ,\n",
       "       2.23606798])"
      ]
     },
     "execution_count": 13,
     "metadata": {},
     "output_type": "execute_result"
    }
   ],
   "source": [
    "#Square Roots\n",
    "np.sqrt(a)"
   ]
  },
  {
   "cell_type": "code",
   "execution_count": null,
   "metadata": {
    "ExecuteTime": {
     "end_time": "2021-07-03T19:41:36.013532Z",
     "start_time": "2021-07-03T19:41:35.968614Z"
    },
    "id": "BrOAtERp_Q8N",
    "outputId": "c8947d8f-6cbe-4b91-d0a0-54dcfeb16893",
    "scrolled": true
   },
   "outputs": [
    {
     "data": {
      "text/plain": [
       "array([ 0.        ,  0.84147098,  0.90929743,  0.14112001, -0.7568025 ,\n",
       "       -0.95892427])"
      ]
     },
     "execution_count": 17,
     "metadata": {},
     "output_type": "execute_result"
    }
   ],
   "source": [
    "np.sin(a)"
   ]
  },
  {
   "cell_type": "code",
   "execution_count": null,
   "metadata": {
    "ExecuteTime": {
     "end_time": "2021-07-03T19:41:36.216656Z",
     "start_time": "2021-07-03T19:41:36.195175Z"
    },
    "id": "_vwKxvN__Q8N",
    "outputId": "8a078feb-c78a-4b32-a6a6-697b485d9ab2"
   },
   "outputs": [
    {
     "data": {
      "text/plain": [
       "array([ 1.        ,  0.54030231, -0.41614684, -0.9899925 , -0.65364362,\n",
       "        0.28366219])"
      ]
     },
     "execution_count": 18,
     "metadata": {},
     "output_type": "execute_result"
    }
   ],
   "source": [
    "np.cos(a)"
   ]
  },
  {
   "cell_type": "code",
   "execution_count": null,
   "metadata": {
    "ExecuteTime": {
     "end_time": "2021-07-03T19:41:36.528180Z",
     "start_time": "2021-07-03T19:41:36.494979Z"
    },
    "id": "u0JsENzt_Q8N",
    "outputId": "e2473c4b-ba73-48f4-b014-74da947dc966",
    "scrolled": true
   },
   "outputs": [
    {
     "name": "stdout",
     "output_type": "stream",
     "text": [
      "[[1. 2.]\n",
      " [3. 4.]]\n",
      "[[5. 6.]\n",
      " [7. 8.]]\n",
      "[[ 6.  8.]\n",
      " [10. 12.]]\n",
      "[[ 6.  8.]\n",
      " [10. 12.]]\n",
      "[[-4. -4.]\n",
      " [-4. -4.]]\n",
      "[[-4. -4.]\n",
      " [-4. -4.]]\n",
      "[[ 5. 12.]\n",
      " [21. 32.]]\n",
      "[[ 5. 12.]\n",
      " [21. 32.]]\n",
      "[[0.2        0.33333333]\n",
      " [0.42857143 0.5       ]]\n",
      "[[0.2        0.33333333]\n",
      " [0.42857143 0.5       ]]\n",
      "[[1.         1.41421356]\n",
      " [1.73205081 2.        ]]\n"
     ]
    }
   ],
   "source": [
    "import numpy as np\n",
    "\n",
    "x = np.array([[1,2],[3,4]], dtype=np.float64)\n",
    "y = np.array([[5,6],[7,8]], dtype=np.float64)\n",
    "print(x)\n",
    "print(y)\n",
    "\n",
    "# Elementwise sum; both produce the array\n",
    "# [[ 6.0  8.0]\n",
    "#  [10.0 12.0]]\n",
    "print(x + y)\n",
    "print(np.add(x, y))\n",
    "\n",
    "# Elementwise difference; both produce the array\n",
    "# [[-4.0 -4.0]\n",
    "#  [-4.0 -4.0]]\n",
    "print(x - y)\n",
    "print(np.subtract(x, y))\n",
    "\n",
    "# Elementwise product; both produce the array\n",
    "# [[ 5.0 12.0]\n",
    "#  [21.0 32.0]]\n",
    "print(x * y)\n",
    "print(np.multiply(x, y))\n",
    "\n",
    "# Elementwise division; both produce the array\n",
    "# [[ 0.2         0.33333333]\n",
    "#  [ 0.42857143  0.5       ]]\n",
    "print(x / y)\n",
    "print(np.divide(x, y))\n",
    "\n",
    "# Elementwise square root; produces the array\n",
    "# [[ 1.          1.41421356]\n",
    "#  [ 1.73205081  2.        ]]\n",
    "print(np.sqrt(x))"
   ]
  },
  {
   "cell_type": "code",
   "execution_count": null,
   "metadata": {
    "ExecuteTime": {
     "end_time": "2021-07-03T19:41:36.871926Z",
     "start_time": "2021-07-03T19:41:36.853377Z"
    },
    "id": "Qj1zxlTE_Q8O",
    "outputId": "6d01febb-b35d-4ce0-c67d-e95fa69a09dd"
   },
   "outputs": [
    {
     "data": {
      "text/plain": [
       "14"
      ]
     },
     "execution_count": 20,
     "metadata": {},
     "output_type": "execute_result"
    }
   ],
   "source": [
    "### Dot product: product of two arrays\n",
    "\n",
    "f = np.array([1,2])\n",
    "g = np.array([4,5])\n",
    "### 1*4+2*5\n",
    "np.dot(f, g)"
   ]
  },
  {
   "cell_type": "code",
   "execution_count": null,
   "metadata": {
    "ExecuteTime": {
     "end_time": "2021-07-03T19:41:37.308447Z",
     "start_time": "2021-07-03T19:41:37.286967Z"
    },
    "id": "yvt2vwbQ_Q8P",
    "outputId": "164ded00-cae8-418b-f6dd-74f1d200cbd6"
   },
   "outputs": [
    {
     "name": "stdout",
     "output_type": "stream",
     "text": [
      "219\n",
      "219\n",
      "[29 67]\n",
      "[29 67]\n",
      "[[19 22]\n",
      " [43 50]]\n",
      "[[19 22]\n",
      " [43 50]]\n"
     ]
    }
   ],
   "source": [
    "import numpy as np\n",
    "\n",
    "x = np.array([[1,2],[3,4]])\n",
    "y = np.array([[5,6],[7,8]])\n",
    "\n",
    "v = np.array([9,10])\n",
    "w = np.array([11, 12])\n",
    "\n",
    "# Inner product of vectors; both produce 219\n",
    "print(v.dot(w))\n",
    "print(np.dot(v, w))\n",
    "\n",
    "# Matrix / vector product; both produce the rank 1 array [29 67]\n",
    "print(x.dot(v))\n",
    "print(np.dot(x, v))\n",
    "\n",
    "# Matrix / matrix product; both produce the rank 2 array\n",
    "# [[19 22]\n",
    "#  [43 50]]\n",
    "print(x.dot(y))\n",
    "print(np.dot(x, y))"
   ]
  },
  {
   "cell_type": "markdown",
   "metadata": {
    "id": "tY13uv-i_Q8P"
   },
   "source": [
    "Numpy provides many useful functions for performing computations on arrays; one of the most useful is **`sum`**:"
   ]
  },
  {
   "cell_type": "code",
   "execution_count": null,
   "metadata": {
    "ExecuteTime": {
     "end_time": "2021-07-03T19:41:37.714693Z",
     "start_time": "2021-07-03T19:41:37.693214Z"
    },
    "id": "29zrYtNd_Q8P",
    "outputId": "a5aafec5-09a5-48d7-9d88-c904a85eba84"
   },
   "outputs": [
    {
     "name": "stdout",
     "output_type": "stream",
     "text": [
      "10\n",
      "[4 6]\n",
      "[3 7]\n"
     ]
    }
   ],
   "source": [
    "import numpy as np\n",
    "\n",
    "x = np.array([[1,2],[3,4]])\n",
    "\n",
    "print(np.sum(x))  # Compute sum of all elements; prints \"10\"\n",
    "print(np.sum(x, axis=0))  # Compute sum of each column; prints \"[4 6]\"\n",
    "print(np.sum(x, axis=1))  # Compute sum of each row; prints \"[3 7]\""
   ]
  },
  {
   "cell_type": "markdown",
   "metadata": {
    "id": "kGUBOiJo_Q8P"
   },
   "source": [
    "You can find the full list of mathematical functions provided by numpy in this **[documentation](https://numpy.org/doc/stable/reference/routines.math.html)**."
   ]
  },
  {
   "cell_type": "markdown",
   "metadata": {
    "id": "nJggbi62_Q8Q"
   },
   "source": [
    "Apart from computing mathematical functions using arrays, we frequently need to reshape or otherwise manipulate data in arrays. The simplest example of this type of operation is transposing a matrix; to transpose a matrix, simply use the **`T`** attribute of an array object:"
   ]
  },
  {
   "cell_type": "code",
   "execution_count": null,
   "metadata": {
    "ExecuteTime": {
     "end_time": "2021-07-03T19:41:38.340181Z",
     "start_time": "2021-07-03T19:41:38.330416Z"
    },
    "id": "qzbC6Njj_Q8Q",
    "outputId": "521e1c91-99b5-411b-cdab-f85bfd23a4cb"
   },
   "outputs": [
    {
     "name": "stdout",
     "output_type": "stream",
     "text": [
      "[[1 2]\n",
      " [3 4]]\n",
      "[[1 3]\n",
      " [2 4]]\n",
      "[1 2 3]\n",
      "[1 2 3]\n"
     ]
    }
   ],
   "source": [
    "import numpy as np\n",
    "\n",
    "x = np.array([[1,2], [3,4]])\n",
    "print(x)    # Prints \"[[1 2]\n",
    "            #          [3 4]]\"\n",
    "print(x.T)  # Prints \"[[1 3]\n",
    "            #          [2 4]]\"\n",
    "\n",
    "# Note that taking the transpose of a rank 1 array does nothing:\n",
    "v = np.array([1,2,3])\n",
    "print(v)    # Prints \"[1 2 3]\"\n",
    "print(v.T)  # Prints \"[1 2 3]\""
   ]
  },
  {
   "cell_type": "markdown",
   "metadata": {
    "id": "_UwJM_9I_Q8R"
   },
   "source": [
    "Numpy provides many more functions for manipulating arrays; you can see the full list in the **[documentation](https://numpy.org/doc/stable/reference/routines.array-manipulation.html)**."
   ]
  },
  {
   "cell_type": "markdown",
   "metadata": {
    "id": "OE7fvPT6_Q8R"
   },
   "source": [
    "### Matrix Multiplication\n",
    "\n",
    "The Numpy **`matmul()`** function is used to return the matrix product of 2 arrays."
   ]
  },
  {
   "cell_type": "code",
   "execution_count": null,
   "metadata": {
    "ExecuteTime": {
     "end_time": "2021-07-03T19:41:39.010098Z",
     "start_time": "2021-07-03T19:41:38.993501Z"
    },
    "id": "h2GUmgHp_Q8R",
    "outputId": "9dd359ff-752d-47c6-c554-b08f2d471414",
    "scrolled": true
   },
   "outputs": [
    {
     "name": "stdout",
     "output_type": "stream",
     "text": [
      "[[1. 1. 1.]\n",
      " [1. 1. 1.]]\n",
      "[[2 2]\n",
      " [2 2]\n",
      " [2 2]]\n"
     ]
    },
    {
     "data": {
      "text/plain": [
       "array([[6., 6.],\n",
       "       [6., 6.]])"
      ]
     },
     "execution_count": 24,
     "metadata": {},
     "output_type": "execute_result"
    }
   ],
   "source": [
    "a = np.ones((2,3))\n",
    "print(a)\n",
    "\n",
    "b = np.full((3,2), 2)\n",
    "print(b)\n",
    "\n",
    "np.matmul(a,b) # matmul() function is used to return the matrix product of 2 arrays."
   ]
  },
  {
   "cell_type": "markdown",
   "metadata": {
    "id": "75Y5-DInCS9o"
   },
   "source": [
    "### Reshape Data\n",
    "\n",
    "In some occasions, you need to reshape the data from wide to long. You can use the reshape function for this.\n",
    "\n",
    "**Syntax:**\n",
    "```python\n",
    "numpy.reshape(a, newShape, order='C')\n",
    "```\n",
    "* **`a: Array`** that you want to reshape\n",
    "* **`newShape`**: The new desires shape\n",
    "* **`order`**: Default is **`C`** which is an essential row style."
   ]
  },
  {
   "cell_type": "code",
   "execution_count": null,
   "metadata": {
    "ExecuteTime": {
     "end_time": "2021-07-06T15:01:02.411696Z",
     "start_time": "2021-07-06T15:01:02.315015Z"
    },
    "id": "l-E8JdqXCS9o",
    "outputId": "deaa80d3-cebb-4d65-dc53-d55515767afd",
    "scrolled": true
   },
   "outputs": [
    {
     "name": "stdout",
     "output_type": "stream",
     "text": [
      "[[1 2 3]\n",
      " [4 5 6]]\n"
     ]
    },
    {
     "data": {
      "text/plain": [
       "array([[1, 2],\n",
       "       [3, 4],\n",
       "       [5, 6]])"
      ]
     },
     "execution_count": 8,
     "metadata": {},
     "output_type": "execute_result"
    }
   ],
   "source": [
    "import numpy as np\n",
    "\n",
    "e  = np.array([(1,2,3), (4,5,6)])\n",
    "print(e)\n",
    "e.reshape(3,2)"
   ]
  },
  {
   "cell_type": "markdown",
   "metadata": {
    "id": "Dy1yHhMDCS9p"
   },
   "source": [
    "### What is `hstack`?\n",
    "\n",
    "With **`hstack`** you can appened data horizontally. This is a very convinient function in Numpy. Lets study it with an example:"
   ]
  },
  {
   "cell_type": "code",
   "execution_count": null,
   "metadata": {
    "ExecuteTime": {
     "end_time": "2021-07-06T15:01:02.970776Z",
     "start_time": "2021-07-06T15:01:02.958081Z"
    },
    "id": "hymmY4NrCS9p",
    "outputId": "aa9b5465-bb09-424e-fb28-09ec50d28e74"
   },
   "outputs": [
    {
     "name": "stdout",
     "output_type": "stream",
     "text": [
      "Horizontal Append: [1 2 3 4 5 6]\n"
     ]
    }
   ],
   "source": [
    "## Horitzontal Stack\n",
    "\n",
    "import numpy as np\n",
    "f = np.array([1,2,3])\n",
    "g = np.array([4,5,6])\n",
    "\n",
    "print('Horizontal Append:', np.hstack((f, g)))"
   ]
  },
  {
   "cell_type": "code",
   "execution_count": null,
   "metadata": {
    "ExecuteTime": {
     "end_time": "2021-07-06T15:01:03.094802Z",
     "start_time": "2021-07-06T15:01:02.973707Z"
    },
    "id": "hIpzOxL6CS9p",
    "outputId": "4cea7a8a-1e0e-4b4f-b89f-32f04ea9448a"
   },
   "outputs": [
    {
     "data": {
      "text/plain": [
       "array([[1., 1., 1., 1., 0., 0.],\n",
       "       [1., 1., 1., 1., 0., 0.]])"
      ]
     },
     "execution_count": 15,
     "metadata": {},
     "output_type": "execute_result"
    }
   ],
   "source": [
    "# Horizontal  stack\n",
    "\n",
    "h1 = np.ones((2,4))\n",
    "h2 = np.zeros((2,2))\n",
    "\n",
    "np.hstack((h1,h2))"
   ]
  },
  {
   "cell_type": "markdown",
   "metadata": {
    "id": "COj9f4UGCS9q"
   },
   "source": [
    "### What is `vstack`?\n",
    "\n",
    "With **`vstack`** you can appened data vertically. Lets study it with an example:"
   ]
  },
  {
   "cell_type": "code",
   "execution_count": null,
   "metadata": {
    "ExecuteTime": {
     "end_time": "2021-07-06T15:01:03.203200Z",
     "start_time": "2021-07-06T15:01:03.097730Z"
    },
    "id": "12Vf6rixCS9q",
    "outputId": "bc38ef90-1e50-49c1-9603-39161559b4d8"
   },
   "outputs": [
    {
     "name": "stdout",
     "output_type": "stream",
     "text": [
      "Vertical Append: [[1 2 3]\n",
      " [4 5 6]]\n"
     ]
    }
   ],
   "source": [
    "## Vertical Stack\n",
    "\n",
    "import numpy as np\n",
    "f = np.array([1,2,3])\n",
    "g = np.array([4,5,6])\n",
    "\n",
    "print('Vertical Append:', np.vstack((f, g)))"
   ]
  },
  {
   "cell_type": "code",
   "execution_count": null,
   "metadata": {
    "ExecuteTime": {
     "end_time": "2021-07-06T15:01:03.328195Z",
     "start_time": "2021-07-06T15:01:03.206127Z"
    },
    "id": "XAc8kVIiCS9q",
    "outputId": "4932649a-51f2-4fb8-84d3-0bb5dde9778a"
   },
   "outputs": [
    {
     "data": {
      "text/plain": [
       "array([[1, 2, 3, 4],\n",
       "       [5, 6, 7, 8],\n",
       "       [1, 2, 3, 4],\n",
       "       [5, 6, 7, 8]])"
      ]
     },
     "execution_count": 17,
     "metadata": {},
     "output_type": "execute_result"
    }
   ],
   "source": [
    "# Vertically stacking vectors\n",
    "\n",
    "v1 = np.array([1,2,3,4])\n",
    "v2 = np.array([5,6,7,8])\n",
    "\n",
    "np.vstack([v1,v2,v1,v2])"
   ]
  },
  {
   "cell_type": "markdown",
   "metadata": {
    "id": "yK-Ih3GbCS92"
   },
   "source": [
    "## Miscellaneous"
   ]
  },
  {
   "cell_type": "markdown",
   "metadata": {
    "id": "btvwKfYwCS92"
   },
   "source": [
    "### Load Data from File\n",
    "\n",
    "you can download the \"data.txt\" from **[here](https://github.com/milaan9/09_Python_NumPy_Module/blob/main/data.txt)**"
   ]
  },
  {
   "cell_type": "code",
   "execution_count": null,
   "metadata": {
    "ExecuteTime": {
     "end_time": "2021-07-06T15:01:04.975650Z",
     "start_time": "2021-07-06T15:01:04.779363Z"
    },
    "id": "o_X3orZTCS92",
    "outputId": "2ba48713-bf7d-4d05-91c5-ee402ef4a4fa"
   },
   "outputs": [
    {
     "name": "stdout",
     "output_type": "stream",
     "text": [
      "[[  1  13  21  11 196  75   4   3  34   6   7   8   0   1   2   3   4   5]\n",
      " [  3  42  12  33 766  75   4  55   6   4   3   4   5   6   7   0  11  12]\n",
      " [  1  22  33  11 999  11   2   1  78   0   1   2   9   8   7   1  76  88]]\n"
     ]
    }
   ],
   "source": [
    "filedata = np.genfromtxt('data.txt', delimiter=',')\n",
    "filedata = filedata.astype('int32') # you can also change type to 'int64'\n",
    "print(filedata)"
   ]
  },
  {
   "cell_type": "markdown",
   "metadata": {
    "id": "xw1TSpRXCS93"
   },
   "source": [
    "### Boolean Masking and Advanced Indexing"
   ]
  },
  {
   "cell_type": "code",
   "execution_count": null,
   "metadata": {
    "ExecuteTime": {
     "end_time": "2021-07-06T15:01:05.039125Z",
     "start_time": "2021-07-06T15:01:04.982484Z"
    },
    "id": "kJD57vhPCS93",
    "outputId": "89b2bc54-a162-49a0-9a09-20adee4942db"
   },
   "outputs": [
    {
     "data": {
      "text/plain": [
       "array([[False, False, False, False,  True,  True, False, False, False,\n",
       "        False, False, False, False, False, False, False, False, False],\n",
       "       [False, False, False, False,  True,  True, False,  True, False,\n",
       "        False, False, False, False, False, False, False, False, False],\n",
       "       [False, False, False, False,  True, False, False, False,  True,\n",
       "        False, False, False, False, False, False, False,  True,  True]])"
      ]
     },
     "execution_count": 31,
     "metadata": {},
     "output_type": "execute_result"
    }
   ],
   "source": [
    "filedata >50"
   ]
  },
  {
   "cell_type": "code",
   "execution_count": null,
   "metadata": {
    "ExecuteTime": {
     "end_time": "2021-07-06T15:01:05.162172Z",
     "start_time": "2021-07-06T15:01:05.045963Z"
    },
    "id": "0T9EYGgJCS93",
    "outputId": "d0cfdfa6-b0de-4d29-a48a-e69ee2344582"
   },
   "outputs": [
    {
     "name": "stdout",
     "output_type": "stream",
     "text": [
      "[[  1  13  21  11 196  75   4   3  34   6   7   8   0   1   2   3   4   5]\n",
      " [  3  42  12  33 766  75   4  55   6   4   3   4   5   6   7   0  11  12]\n",
      " [  1  22  33  11 999  11   2   1  78   0   1   2   9   8   7   1  76  88]]\n"
     ]
    },
    {
     "data": {
      "text/plain": [
       "array([196,  75, 766,  75,  55, 999,  78,  76,  88])"
      ]
     },
     "execution_count": 32,
     "metadata": {},
     "output_type": "execute_result"
    }
   ],
   "source": [
    "print(filedata)\n",
    "filedata[filedata >50] # '[]' will display the value of data point from the dataset"
   ]
  },
  {
   "cell_type": "code",
   "execution_count": null,
   "metadata": {
    "ExecuteTime": {
     "end_time": "2021-07-06T15:01:05.271545Z",
     "start_time": "2021-07-06T15:01:05.173893Z"
    },
    "id": "OBGebxv7CS93",
    "outputId": "6deaab3b-bf7c-4680-fc21-704105808b03"
   },
   "outputs": [
    {
     "name": "stdout",
     "output_type": "stream",
     "text": [
      "[[  1  13  21  11 196  75   4   3  34   6   7   8   0   1   2   3   4   5]\n",
      " [  3  42  12  33 766  75   4  55   6   4   3   4   5   6   7   0  11  12]\n",
      " [  1  22  33  11 999  11   2   1  78   0   1   2   9   8   7   1  76  88]]\n"
     ]
    },
    {
     "data": {
      "text/plain": [
       "array([False, False, False, False,  True,  True, False,  True,  True,\n",
       "       False, False, False, False, False, False, False,  True,  True])"
      ]
     },
     "execution_count": 33,
     "metadata": {},
     "output_type": "execute_result"
    }
   ],
   "source": [
    "print(filedata)\n",
    "np.any(filedata > 50, axis = 0) # axis=0 refers to columns and axis=1 refers to rows in this dataset"
   ]
  },
  {
   "cell_type": "code",
   "execution_count": null,
   "metadata": {
    "ExecuteTime": {
     "end_time": "2021-07-06T15:01:05.380922Z",
     "start_time": "2021-07-06T15:01:05.274476Z"
    },
    "id": "tZqjGfDBCS93",
    "outputId": "6fbc3a9c-3796-45e6-844d-7c0136252c71"
   },
   "outputs": [
    {
     "name": "stdout",
     "output_type": "stream",
     "text": [
      "[[  1  13  21  11 196  75   4   3  34   6   7   8   0   1   2   3   4   5]\n",
      " [  3  42  12  33 766  75   4  55   6   4   3   4   5   6   7   0  11  12]\n",
      " [  1  22  33  11 999  11   2   1  78   0   1   2   9   8   7   1  76  88]]\n"
     ]
    },
    {
     "data": {
      "text/plain": [
       "array([False, False, False, False,  True, False, False, False, False,\n",
       "       False, False, False, False, False, False, False, False, False])"
      ]
     },
     "execution_count": 34,
     "metadata": {},
     "output_type": "execute_result"
    }
   ],
   "source": [
    "print(filedata)\n",
    "np.all(filedata > 50, axis = 0) # '.all' refers to all the data points in row/column (based on axis=0 or axis=1)."
   ]
  },
  {
   "cell_type": "code",
   "execution_count": null,
   "metadata": {
    "ExecuteTime": {
     "end_time": "2021-07-06T15:01:05.521545Z",
     "start_time": "2021-07-06T15:01:05.389709Z"
    },
    "id": "gxpj7c0uCS93",
    "outputId": "893a92dd-ca47-4089-d8e2-35b0912618b1"
   },
   "outputs": [
    {
     "name": "stdout",
     "output_type": "stream",
     "text": [
      "[[  1  13  21  11 196  75   4   3  34   6   7   8   0   1   2   3   4   5]\n",
      " [  3  42  12  33 766  75   4  55   6   4   3   4   5   6   7   0  11  12]\n",
      " [  1  22  33  11 999  11   2   1  78   0   1   2   9   8   7   1  76  88]]\n"
     ]
    },
    {
     "data": {
      "text/plain": [
       "array([[False, False, False, False, False,  True, False, False, False,\n",
       "        False, False, False, False, False, False, False, False, False],\n",
       "       [False, False, False, False, False,  True, False,  True, False,\n",
       "        False, False, False, False, False, False, False, False, False],\n",
       "       [False, False, False, False, False, False, False, False,  True,\n",
       "        False, False, False, False, False, False, False,  True,  True]])"
      ]
     },
     "execution_count": 35,
     "metadata": {},
     "output_type": "execute_result"
    }
   ],
   "source": [
    "print(filedata)\n",
    "(((filedata > 50) & (filedata < 100)))"
   ]
  },
  {
   "cell_type": "code",
   "execution_count": null,
   "metadata": {
    "ExecuteTime": {
     "end_time": "2021-07-06T15:01:05.820861Z",
     "start_time": "2021-07-06T15:01:05.672914Z"
    },
    "id": "xMcV_8vFCS93",
    "outputId": "f9603f9c-b68a-4481-9f55-c7910f9bb631"
   },
   "outputs": [
    {
     "data": {
      "text/plain": [
       "array([2, 3, 9])"
      ]
     },
     "execution_count": 37,
     "metadata": {},
     "output_type": "execute_result"
    }
   ],
   "source": [
    "### You can index with a list in NumPy\n",
    "a = np.array([1,2,3,4,5,6,7,8,9])\n",
    "a [[1,2,8]] #indexes"
   ]
  }
 ],
 "metadata": {
  "colab": {
   "collapsed_sections": [
    "EyThnH7Z1hly",
    "8YWIPVxdy9NV",
    "uVoC26cTy9NY",
    "m4KP9aI0y9NY",
    "5Ys_pE3e_Q8C",
    "OE7fvPT6_Q8R",
    "75Y5-DInCS9o",
    "Dy1yHhMDCS9p",
    "yK-Ih3GbCS92"
   ],
   "provenance": []
  },
  "kernelspec": {
   "display_name": "Python 3 (ipykernel)",
   "language": "python",
   "name": "python3"
  },
  "language_info": {
   "codemirror_mode": {
    "name": "ipython",
    "version": 3
   },
   "file_extension": ".py",
   "mimetype": "text/x-python",
   "name": "python",
   "nbconvert_exporter": "python",
   "pygments_lexer": "ipython3",
   "version": "3.9.17"
  }
 },
 "nbformat": 4,
 "nbformat_minor": 1
}
