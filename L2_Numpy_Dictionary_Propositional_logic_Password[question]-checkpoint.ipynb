{
 "cells": [
  {
   "cell_type": "markdown",
   "metadata": {
    "id": "7sUP-Wc5GgSh"
   },
   "source": [
    "NUMPY ADVANCED"
   ]
  },
  {
   "cell_type": "markdown",
   "metadata": {
    "id": "Dy1yHhMDCS9p"
   },
   "source": [
    "### What is `hstack`?\n",
    "\n",
    "With **`hstack`** you can appened data horizontally. This is a very convinient function in Numpy. Lets study it with an example:"
   ]
  },
  {
   "cell_type": "code",
   "execution_count": 3,
   "metadata": {
    "ExecuteTime": {
     "end_time": "2021-07-06T15:01:02.970776Z",
     "start_time": "2021-07-06T15:01:02.958081Z"
    },
    "id": "hymmY4NrCS9p",
    "outputId": "aa9b5465-bb09-424e-fb28-09ec50d28e74"
   },
   "outputs": [
    {
     "name": "stdout",
     "output_type": "stream",
     "text": [
      "Horizontal Append: [1 2 3 4 5 6]\n"
     ]
    }
   ],
   "source": [
    "## Horitzontal Stack\n",
    "\n",
    "import numpy as np\n",
    "f = np.array([1,2,3])\n",
    "g = np.array([4,5,6])\n",
    "\n",
    "print('Horizontal Append:', np.hstack((f, g)))"
   ]
  },
  {
   "cell_type": "code",
   "execution_count": 11,
   "metadata": {},
   "outputs": [
    {
     "name": "stdout",
     "output_type": "stream",
     "text": [
      "shape of amtrix (2, 5)(2, 5)\n",
      "horizontal append:  [[1 2 3 4 5 1 2 3 4 5]\n",
      " [1 2 3 4 5 1 2 3 4 5]]\n"
     ]
    }
   ],
   "source": [
    "import numpy as np\n",
    "z=np.array([[1,2,3,4,5],[1,2,3,4,5]])\n",
    "zz=np.array([[1,2,3,4,5],[1,2,3,4,5]])\n",
    "print(\"shape of amtrix \"+str(z.shape)+ str(zz.shape))\n",
    "print(\"horizontal append: \",np.hstack((z,zz)))"
   ]
  },
  {
   "cell_type": "markdown",
   "metadata": {
    "id": "COj9f4UGCS9q"
   },
   "source": [
    "### What is `vstack`?\n",
    "\n",
    "With **`vstack`** you can appened data vertically. Lets study it with an example:"
   ]
  },
  {
   "cell_type": "code",
   "execution_count": null,
   "metadata": {
    "ExecuteTime": {
     "end_time": "2021-07-06T15:01:03.203200Z",
     "start_time": "2021-07-06T15:01:03.097730Z"
    },
    "id": "12Vf6rixCS9q",
    "outputId": "bc38ef90-1e50-49c1-9603-39161559b4d8"
   },
   "outputs": [
    {
     "name": "stdout",
     "output_type": "stream",
     "text": [
      "Vertical Append: [[1 2 3]\n",
      " [4 5 6]]\n"
     ]
    }
   ],
   "source": [
    "## Vertical Stack\n",
    "\n",
    "import numpy as np\n",
    "f = np.array([1,2,3])\n",
    "g = np.array([4,5,6])\n",
    "\n",
    "print('Vertical Append:', np.vstack((f, g)))"
   ]
  },
  {
   "cell_type": "markdown",
   "metadata": {
    "id": "btvwKfYwCS92"
   },
   "source": [
    "### Load Data from File\n",
    "\n",
    "you can download the \"data.txt\" from **[here](https://github.com/milaan9/09_Python_NumPy_Module/blob/main/data.txt)**"
   ]
  },
  {
   "cell_type": "code",
   "execution_count": null,
   "metadata": {
    "ExecuteTime": {
     "end_time": "2021-07-06T15:01:04.975650Z",
     "start_time": "2021-07-06T15:01:04.779363Z"
    },
    "id": "o_X3orZTCS92",
    "outputId": "2ba48713-bf7d-4d05-91c5-ee402ef4a4fa"
   },
   "outputs": [
    {
     "name": "stdout",
     "output_type": "stream",
     "text": [
      "[[  1  13  21  11 196  75   4   3  34   6   7   8   0   1   2   3   4   5]\n",
      " [  3  42  12  33 766  75   4  55   6   4   3   4   5   6   7   0  11  12]\n",
      " [  1  22  33  11 999  11   2   1  78   0   1   2   9   8   7   1  76  88]]\n"
     ]
    }
   ],
   "source": [
    "filedata = np.genfromtxt('data.txt', delimiter=',')\n",
    "filedata = filedata.astype('int32') # you can also change type to 'int64'\n",
    "print(filedata)"
   ]
  },
  {
   "cell_type": "code",
   "execution_count": null,
   "metadata": {
    "ExecuteTime": {
     "end_time": "2021-07-06T15:01:05.039125Z",
     "start_time": "2021-07-06T15:01:04.982484Z"
    },
    "id": "kJD57vhPCS93",
    "outputId": "89b2bc54-a162-49a0-9a09-20adee4942db"
   },
   "outputs": [
    {
     "data": {
      "text/plain": [
       "array([[False, False, False, False,  True,  True, False, False, False,\n",
       "        False, False, False, False, False, False, False, False, False],\n",
       "       [False, False, False, False,  True,  True, False,  True, False,\n",
       "        False, False, False, False, False, False, False, False, False],\n",
       "       [False, False, False, False,  True, False, False, False,  True,\n",
       "        False, False, False, False, False, False, False,  True,  True]])"
      ]
     },
     "execution_count": 31,
     "metadata": {},
     "output_type": "execute_result"
    }
   ],
   "source": [
    "filedata >50"
   ]
  },
  {
   "cell_type": "code",
   "execution_count": null,
   "metadata": {
    "ExecuteTime": {
     "end_time": "2021-07-06T15:01:05.162172Z",
     "start_time": "2021-07-06T15:01:05.045963Z"
    },
    "id": "0T9EYGgJCS93",
    "outputId": "d0cfdfa6-b0de-4d29-a48a-e69ee2344582"
   },
   "outputs": [
    {
     "name": "stdout",
     "output_type": "stream",
     "text": [
      "[[  1  13  21  11 196  75   4   3  34   6   7   8   0   1   2   3   4   5]\n",
      " [  3  42  12  33 766  75   4  55   6   4   3   4   5   6   7   0  11  12]\n",
      " [  1  22  33  11 999  11   2   1  78   0   1   2   9   8   7   1  76  88]]\n"
     ]
    },
    {
     "data": {
      "text/plain": [
       "array([196,  75, 766,  75,  55, 999,  78,  76,  88])"
      ]
     },
     "execution_count": 32,
     "metadata": {},
     "output_type": "execute_result"
    }
   ],
   "source": [
    "print(filedata)\n",
    "filedata[filedata >50] # '[]' will display the value of data point from the dataset"
   ]
  },
  {
   "cell_type": "markdown",
   "metadata": {
    "id": "g6QsfOVYIumX"
   },
   "source": [
    "DICTIONARY"
   ]
  },
  {
   "cell_type": "markdown",
   "metadata": {
    "id": "y62OF0OrIxKY"
   },
   "source": [
    "1. Write a Python program that simulates a simple phone book using a dictionary. The program should allow users to add contacts (name and phone number), look up contacts by name, and delete contacts. Implement a menu-driven interface to perform these operations. Take input from user to perform following operations (\"1. Add Contact\"),(\"2. Look Up Contact\"),(\"3. Delete Contact\"),(\"4. Exit\")"
   ]
  },
  {
   "cell_type": "code",
   "execution_count": 41,
   "metadata": {
    "id": "ViHQs3_3IwLy"
   },
   "outputs": [
    {
     "name": "stdout",
     "output_type": "stream",
     "text": [
      "enter name: ss\n",
      "enter phone number: 123\n",
      "{'ss': '123'}\n"
     ]
    }
   ],
   "source": [
    "di={}\n",
    "\n",
    "def add_contact():\n",
    "    name=input(\"enter name: \")\n",
    "    phonenumber=input(\"enter phone number: \")\n",
    "    di[name]=phonenumber   \n",
    "    print(di)\n",
    "add_contact()\n",
    "\n",
    "def delete_contact():\n",
    "    delete=input(\"enter the name of contact to delete\")\n",
    "    del di[delete]  \n",
    "    print(di)"
   ]
  },
  {
   "cell_type": "code",
   "execution_count": 42,
   "metadata": {},
   "outputs": [
    {
     "name": "stdout",
     "output_type": "stream",
     "text": [
      "enter the name of contact to deletess\n",
      "{}\n"
     ]
    }
   ],
   "source": [
    "delete_contact()"
   ]
  },
  {
   "cell_type": "markdown",
   "metadata": {
    "id": "9XSUTunWKY93"
   },
   "source": [
    "# 2. Create a Python program that takes a list of words as input and counts the frequency of each word. Store the word frequencies in a dictionary where the word is the key, and the frequency is the value. Display the word frequencies in alphabetical order."
   ]
  },
  {
   "cell_type": "code",
   "execution_count": null,
   "metadata": {
    "id": "ferBX2WjKQ8V"
   },
   "outputs": [],
   "source": []
  },
  {
   "cell_type": "markdown",
   "metadata": {
    "id": "83hUG2ckKgLS"
   },
   "source": [
    "Write a Python program that reads a text file and calculates the frequency of each word in the file. Create a dictionary to store the word frequencies and display the top 10 most common words along with their frequencies. Exclude common stop words (e.g., \"the,\" \"and,\" \"in\") from the word count. [SUBMIT IN NEXT LAB SESSION]"
   ]
  },
  {
   "cell_type": "code",
   "execution_count": null,
   "metadata": {
    "id": "X--U_lExKjV4"
   },
   "outputs": [],
   "source": []
  },
  {
   "cell_type": "markdown",
   "metadata": {
    "id": "UU8GC6UcLPXd"
   },
   "source": [
    "PROPOSITIONAL LOGIC"
   ]
  },
  {
   "cell_type": "code",
   "execution_count": null,
   "metadata": {
    "id": "YUXotiDDQQlq"
   },
   "outputs": [],
   "source": [
    "#import sys\n",
    "#print(sys.path)"
   ]
  },
  {
   "cell_type": "code",
   "execution_count": null,
   "metadata": {
    "id": "JlLM1MuBNZU-"
   },
   "outputs": [],
   "source": [
    "from logic import *"
   ]
  },
  {
   "cell_type": "code",
   "execution_count": null,
   "metadata": {
    "id": "9eZCM_WkQL1u"
   },
   "outputs": [],
   "source": [
    "P,Q,R = vars('P','Q','R')"
   ]
  },
  {
   "cell_type": "code",
   "execution_count": null,
   "metadata": {
    "colab": {
     "base_uri": "https://localhost:8080/"
    },
    "id": "b8JV_hFtQoCL",
    "outputId": "a04c7ae9-3444-446a-ed72-e49925188ce4"
   },
   "outputs": [
    {
     "data": {
      "text/plain": [
       "Proposition( P )"
      ]
     },
     "execution_count": 14,
     "metadata": {},
     "output_type": "execute_result"
    }
   ],
   "source": [
    "P"
   ]
  },
  {
   "cell_type": "code",
   "execution_count": null,
   "metadata": {
    "colab": {
     "base_uri": "https://localhost:8080/"
    },
    "id": "PeoILsChQ0Hn",
    "outputId": "7d8e1b4a-5cca-43d3-f918-95977e5ff3ae"
   },
   "outputs": [
    {
     "data": {
      "text/plain": [
       "Proposition( Q )"
      ]
     },
     "execution_count": 15,
     "metadata": {},
     "output_type": "execute_result"
    }
   ],
   "source": [
    "Q"
   ]
  },
  {
   "cell_type": "code",
   "execution_count": null,
   "metadata": {
    "colab": {
     "base_uri": "https://localhost:8080/"
    },
    "id": "0epfxa4LQ44i",
    "outputId": "0df563d6-e695-490a-d561-f880e9ed30af"
   },
   "outputs": [
    {
     "data": {
      "text/plain": [
       "Proposition( R )"
      ]
     },
     "execution_count": 16,
     "metadata": {},
     "output_type": "execute_result"
    }
   ],
   "source": [
    "R"
   ]
  },
  {
   "cell_type": "code",
   "execution_count": null,
   "metadata": {
    "id": "pmVMo9p-Q5mQ"
   },
   "outputs": [],
   "source": [
    "formula1 = ~P"
   ]
  },
  {
   "cell_type": "code",
   "execution_count": null,
   "metadata": {
    "colab": {
     "base_uri": "https://localhost:8080/"
    },
    "id": "MFoDG1GrRImy",
    "outputId": "b74f55df-8229-47f8-e530-1b2a33dde216"
   },
   "outputs": [
    {
     "data": {
      "text/plain": [
       "Proposition( ¬P )"
      ]
     },
     "execution_count": 18,
     "metadata": {},
     "output_type": "execute_result"
    }
   ],
   "source": [
    "formula1"
   ]
  },
  {
   "cell_type": "code",
   "execution_count": null,
   "metadata": {
    "colab": {
     "base_uri": "https://localhost:8080/"
    },
    "id": "dVbVG4_zRLLn",
    "outputId": "6625d6b6-271e-4b8f-a46b-d9000e0dfa14"
   },
   "outputs": [
    {
     "name": "stdout",
     "output_type": "stream",
     "text": [
      "  P    #   ¬P  \n",
      "###############\n",
      "True   #  False\n",
      "False  #  True \n",
      "\n"
     ]
    }
   ],
   "source": [
    "formula1.print_truth_table()"
   ]
  },
  {
   "cell_type": "code",
   "execution_count": null,
   "metadata": {
    "colab": {
     "base_uri": "https://localhost:8080/"
    },
    "id": "WzAb0pTgRPmy",
    "outputId": "db34a3bc-511c-49d3-e58b-3cda021d83b4"
   },
   "outputs": [
    {
     "data": {
      "text/plain": [
       "Proposition( P v Q )"
      ]
     },
     "execution_count": 20,
     "metadata": {},
     "output_type": "execute_result"
    }
   ],
   "source": [
    "formula2 = (P | Q)\n",
    "formula2"
   ]
  },
  {
   "cell_type": "code",
   "execution_count": null,
   "metadata": {
    "colab": {
     "base_uri": "https://localhost:8080/"
    },
    "id": "RbClMEZLRrKG",
    "outputId": "09357180-557e-43b0-fb8d-db6a1030c233"
   },
   "outputs": [
    {
     "name": "stdout",
     "output_type": "stream",
     "text": [
      "  P      Q    #  P v Q\n",
      "######################\n",
      "True   True   #  True \n",
      "True   False  #  True \n",
      "False  True   #  True \n",
      "False  False  #  False\n",
      "\n"
     ]
    }
   ],
   "source": [
    "formula2.print_truth_table()"
   ]
  },
  {
   "cell_type": "code",
   "execution_count": null,
   "metadata": {
    "colab": {
     "base_uri": "https://localhost:8080/"
    },
    "id": "EOF6l1SlRtqH",
    "outputId": "8a4bf10c-14c8-4f06-ca06-db9199dada2f"
   },
   "outputs": [
    {
     "data": {
      "text/plain": [
       "Proposition( P ^ Q )"
      ]
     },
     "execution_count": 22,
     "metadata": {},
     "output_type": "execute_result"
    }
   ],
   "source": [
    "formula3 = (P & Q)\n",
    "formula3"
   ]
  },
  {
   "cell_type": "code",
   "execution_count": null,
   "metadata": {
    "colab": {
     "base_uri": "https://localhost:8080/"
    },
    "id": "X4pdp63cRzJn",
    "outputId": "6d4df3a8-5c3a-4c13-a7a7-961e45720540"
   },
   "outputs": [
    {
     "name": "stdout",
     "output_type": "stream",
     "text": [
      "  P      Q    #  P ^ Q\n",
      "######################\n",
      "True   True   #  True \n",
      "True   False  #  False\n",
      "False  True   #  False\n",
      "False  False  #  False\n",
      "\n"
     ]
    }
   ],
   "source": [
    "formula3.print_truth_table()"
   ]
  },
  {
   "cell_type": "code",
   "execution_count": null,
   "metadata": {
    "colab": {
     "base_uri": "https://localhost:8080/"
    },
    "id": "Gv-wIdNqR134",
    "outputId": "9df21075-4fc3-4e93-92c4-3d8ba7d0f179"
   },
   "outputs": [
    {
     "data": {
      "text/plain": [
       "Proposition( P => Q )"
      ]
     },
     "execution_count": 24,
     "metadata": {},
     "output_type": "execute_result"
    }
   ],
   "source": [
    "formula4 = (P >> Q)\n",
    "formula4"
   ]
  },
  {
   "cell_type": "code",
   "execution_count": null,
   "metadata": {
    "colab": {
     "base_uri": "https://localhost:8080/"
    },
    "id": "NiXRrA9NiqWh",
    "outputId": "d7fcc963-629b-4101-8a53-a64aebc94a97"
   },
   "outputs": [
    {
     "name": "stdout",
     "output_type": "stream",
     "text": [
      "  P      Q    #  P => Q\n",
      "#######################\n",
      "True   True   #   True \n",
      "True   False  #  False \n",
      "False  True   #   True \n",
      "False  False  #   True \n",
      "\n"
     ]
    }
   ],
   "source": [
    "formula4.print_truth_table()"
   ]
  },
  {
   "cell_type": "code",
   "execution_count": null,
   "metadata": {
    "colab": {
     "base_uri": "https://localhost:8080/"
    },
    "id": "NgNsYe2BitK9",
    "outputId": "327b8ebe-95f9-421b-884b-467767e6ee7e"
   },
   "outputs": [
    {
     "data": {
      "text/plain": [
       "Proposition( P <=> Q )"
      ]
     },
     "execution_count": 32,
     "metadata": {},
     "output_type": "execute_result"
    }
   ],
   "source": [
    "formula5 = Iff(P , Q)\n",
    "formula5"
   ]
  },
  {
   "cell_type": "code",
   "execution_count": null,
   "metadata": {
    "colab": {
     "base_uri": "https://localhost:8080/"
    },
    "id": "fYAesnZDiy0I",
    "outputId": "ca942906-32a6-4f32-bcc0-872d5274f8a7"
   },
   "outputs": [
    {
     "name": "stdout",
     "output_type": "stream",
     "text": [
      "  P      Q    #  P <=> Q\n",
      "########################\n",
      "True   True   #   True  \n",
      "True   False  #   False \n",
      "False  True   #   False \n",
      "False  False  #   True  \n",
      "\n"
     ]
    }
   ],
   "source": [
    "formula5.print_truth_table()"
   ]
  },
  {
   "cell_type": "code",
   "execution_count": null,
   "metadata": {
    "colab": {
     "base_uri": "https://localhost:8080/"
    },
    "id": "vSD8V5kejYth",
    "outputId": "50186743-8cd7-4579-a20b-95e27b08f799"
   },
   "outputs": [
    {
     "data": {
      "text/plain": [
       "Proposition( (P v Q) => ¬R )"
      ]
     },
     "execution_count": 35,
     "metadata": {},
     "output_type": "execute_result"
    }
   ],
   "source": [
    "formula6 = (P | Q) >> ~R\n",
    "formula6"
   ]
  },
  {
   "cell_type": "code",
   "execution_count": null,
   "metadata": {
    "colab": {
     "base_uri": "https://localhost:8080/"
    },
    "id": "yJkIQZhOmfwf",
    "outputId": "3938ce39-38d5-4bae-fd1c-3d490ddefdf2"
   },
   "outputs": [
    {
     "name": "stdout",
     "output_type": "stream",
     "text": [
      "  P      Q      R    #  (P v Q) => ¬R\n",
      "#####################################\n",
      "True   True   True   #      False    \n",
      "True   True   False  #      True     \n",
      "True   False  True   #      False    \n",
      "True   False  False  #      True     \n",
      "False  True   True   #      False    \n",
      "False  True   False  #      True     \n",
      "False  False  True   #      True     \n",
      "False  False  False  #      True     \n",
      "\n"
     ]
    }
   ],
   "source": [
    "formula6.print_truth_table()"
   ]
  },
  {
   "cell_type": "markdown",
   "metadata": {
    "id": "pURVg1mk8lAI"
   },
   "source": [
    "Create new formula for (P ^ Q) -> R and also show the truth table for the same. Manually also prove this using Truth table"
   ]
  },
  {
   "cell_type": "code",
   "execution_count": null,
   "metadata": {
    "id": "vc8xPD-jmivr"
   },
   "outputs": [],
   "source": []
  },
  {
   "cell_type": "markdown",
   "metadata": {
    "id": "Znh5I4Pj3o8_"
   },
   "source": [
    "Problem 2: Create new formula for (P ^ Q ^ R) -> ~Q and also show the truth table for the same. Also, manually prove this using Truth table."
   ]
  },
  {
   "cell_type": "code",
   "execution_count": null,
   "metadata": {
    "id": "TrhjHoGR6p4l"
   },
   "outputs": [],
   "source": []
  }
 ],
 "metadata": {
  "colab": {
   "provenance": []
  },
  "kernelspec": {
   "display_name": "Python 3 (ipykernel)",
   "language": "python",
   "name": "python3"
  },
  "language_info": {
   "codemirror_mode": {
    "name": "ipython",
    "version": 3
   },
   "file_extension": ".py",
   "mimetype": "text/x-python",
   "name": "python",
   "nbconvert_exporter": "python",
   "pygments_lexer": "ipython3",
   "version": "3.9.17"
  }
 },
 "nbformat": 4,
 "nbformat_minor": 1
}
