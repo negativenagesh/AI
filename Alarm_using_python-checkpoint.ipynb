{
 "cells": [
  {
   "cell_type": "code",
   "execution_count": 1,
   "id": "38649447",
   "metadata": {},
   "outputs": [
    {
     "name": "stdout",
     "output_type": "stream",
     "text": [
      "Enter alarm conditions:\n",
      "Hours (0-23): 5\n",
      "Minutes (0-59): 40\n",
      "Seconds (0-59): 0\n",
      "Days of the week (comma-separated, e.g., Mon,Wed,Fri): Mon,Tue,Wed,Thu,Fri,\n",
      "Alarm set for 05:40:00 on Mon, Tue, Wed, Thu, Fri, \n",
      "Alarm!\n"
     ]
    }
   ],
   "source": [
    "import datetime\n",
    "import time\n",
    "\n",
    "def set_alarm():\n",
    "    print(\"Enter alarm conditions:\")\n",
    "    hours = int(input(\"Hours (0-23): \"))\n",
    "    minutes = int(input(\"Minutes (0-59): \"))\n",
    "    seconds = int(input(\"Seconds (0-59): \"))\n",
    "    days = input(\"Days of the week (comma-separated, e.g., Mon,Wed,Fri): \").split(',')\n",
    "\n",
    "    alarm_time = datetime.time(hours, minutes, seconds)\n",
    "    return alarm_time, days\n",
    "\n",
    "def main():\n",
    "    alarm_time, alarm_days = set_alarm()\n",
    "    print(f\"Alarm set for {alarm_time} on {', '.join(alarm_days)}\")\n",
    "\n",
    "    while True:\n",
    "        current_time = datetime.datetime.now().time()\n",
    "        current_day = datetime.datetime.now().strftime(\"%a\")\n",
    "        \n",
    "        if current_day in alarm_days and current_time >= alarm_time:\n",
    "            print(\"Alarm!\")\n",
    "            break\n",
    "        time.sleep(1)\n",
    "\n",
    "if __name__ == \"__main__\":\n",
    "    main()"
   ]
  },
  {
   "cell_type": "code",
   "execution_count": null,
   "id": "532683bd",
   "metadata": {},
   "outputs": [],
   "source": []
  }
 ],
 "metadata": {
  "kernelspec": {
   "display_name": "Python 3 (ipykernel)",
   "language": "python",
   "name": "python3"
  },
  "language_info": {
   "codemirror_mode": {
    "name": "ipython",
    "version": 3
   },
   "file_extension": ".py",
   "mimetype": "text/x-python",
   "name": "python",
   "nbconvert_exporter": "python",
   "pygments_lexer": "ipython3",
   "version": "3.9.17"
  }
 },
 "nbformat": 4,
 "nbformat_minor": 5
}
