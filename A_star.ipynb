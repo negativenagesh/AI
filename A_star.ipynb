{
 "cells": [
  {
   "cell_type": "code",
   "execution_count": 10,
   "metadata": {},
   "outputs": [],
   "source": [
    "#1\n",
    "import heapq\n",
    "\n",
    "graph={\n",
    "    \"S\":[('A',3),('D',4)],\n",
    "    \"A\":[('S',3),('D',5),('B',4)],\n",
    "    \"D\":[('S',4),('A',5),('E',2)],\n",
    "    \"E\":[('D',2),('B',5),('F',4)],\n",
    "    \"B\":[('A',4),('E',5),('C',4)],\n",
    "    \"C\":[('B',4)],\n",
    "    \"F\":[('E',4),('G',3.5)],\n",
    "    \"G\":[('F',3.5)]\n",
    "}\n",
    "\n",
    "heuristics={\n",
    "    \"S\":11.5,\n",
    "    \"A\":10.1,\n",
    "    \"D\":9.2,\n",
    "    \"B\":5.8,\n",
    "    \"E\":7.1,\n",
    "    \"F\":3.5,\n",
    "    \"C\":3.4,\n",
    "    \"G\":0\n",
    "}"
   ]
  },
  {
   "cell_type": "code",
   "execution_count": 11,
   "metadata": {},
   "outputs": [
    {
     "name": "stdout",
     "output_type": "stream",
     "text": [
      "path  ['S', 'D', 'E', 'F', 'G']\n",
      "total cost 13.5\n"
     ]
    }
   ],
   "source": [
    "import heapq\n",
    "start_node=\"S\"\n",
    "goal_node=\"G\"\n",
    "goal_reached=0\n",
    "frontier=[(heuristics[start_node],0,[start_node])]\n",
    "cost_so_far={start_node:0}\n",
    "while frontier:\n",
    "    estimated_cost,current_cost,path=heapq.heappop(frontier)\n",
    "    current_node=path[-1]\n",
    "    if current_node==goal_node:\n",
    "        print(\"path \",path)\n",
    "        print(\"total cost\",current_cost)\n",
    "        goal_reached=1\n",
    "        break\n",
    "    for neighbor,cost in graph[current_node]:\n",
    "        new_cost=current_cost+cost\n",
    "        if neighbor not in cost_so_far or new_cost < cost_so_far[neighbor]:\n",
    "            cost_so_far[neighbor]=new_cost\n",
    "            priority=new_cost+heuristics[neighbor]\n",
    "            heapq.heappush(frontier,(priority,new_cost,path+[neighbor]))\n",
    "\n",
    "if goal_reached!=1:\n",
    "    print(\"goal not reached\")"
   ]
  },
  {
   "cell_type": "code",
   "execution_count": 4,
   "metadata": {},
   "outputs": [],
   "source": [
    "#2\n",
    "\n",
    "graph={\n",
    "    \"S\":[('A',7),('B',2),(\"C\",3)],\n",
    "    \"A\":[('S',7)],\n",
    "    \"H\":[('B',1),('F',3),('G',2)],\n",
    "    \"E\":[('D',2),('B',5),('F',4)],\n",
    "    \"B\":[('S',2),(\"D\",4),(\"H\",1)],\n",
    "    \"C\":[('S',3)],\n",
    "    \"F\":[('H',3)],\n",
    "    \"G\":[('H',2),(\"E\",2)],\n",
    "    \"D\":[(\"B\",4)]\n",
    "}\n",
    "\n",
    "heuristics={\n",
    "    \"S\":10,\n",
    "    \"A\":9,\n",
    "    \"D\":8,\n",
    "    \"B\":7,\n",
    "    \"E\":0,\n",
    "    \"F\":6,\n",
    "    \"C\":8,\n",
    "    \"G\":3,\n",
    "    \"H\":6\n",
    "}"
   ]
  },
  {
   "cell_type": "code",
   "execution_count": 7,
   "metadata": {},
   "outputs": [
    {
     "name": "stdout",
     "output_type": "stream",
     "text": [
      "path:  ['S', 'B', 'H', 'G', 'E']\n",
      "total cost:  7\n"
     ]
    }
   ],
   "source": [
    "import heapq\n",
    "start_node=\"S\"\n",
    "goal_node=\"E\"\n",
    "goal_reached=0\n",
    "frontier=[(heuristics[start_node],0,[start_node])]\n",
    "cost_so_far={start_node:0}\n",
    "while frontier:\n",
    "    estimated_cost,current_cost,path=heapq.heappop(frontier)\n",
    "    current_node=path[-1]\n",
    "    if current_node==goal_node:\n",
    "        print(\"path: \",path)\n",
    "        print(\"total cost: \",current_cost)\n",
    "        goal_reached=1\n",
    "        break\n",
    "    for neighbor,cost in graph[current_node]:\n",
    "        new_cost=current_cost+cost\n",
    "        if neighbor not in cost_so_far or new_cost < cost_so_far[neighbor]:\n",
    "            cost_so_far[neighbor]=new_cost\n",
    "            priority=new_cost+heuristics[neighbor]\n",
    "            heapq.heappush(frontier,(priority,new_cost,path+[neighbor]))\n",
    "\n",
    "if goal_reached!=1:\n",
    "        print(\"goal not reached\")"
   ]
  },
  {
   "cell_type": "code",
   "execution_count": 12,
   "metadata": {},
   "outputs": [],
   "source": [
    "#3\n",
    "import heapq\n",
    "\n",
    "graph={\n",
    "    \"S\":[('A',1),(\"G\",10)],\n",
    "    \"A\":[('C',1),('B',2)],\n",
    "    \"B\":[(\"D\",5)],\n",
    "    \"C\":[('D',3),(\"G\",4)],\n",
    "    \"D\":[(\"G\",5)]\n",
    "}\n",
    "\n",
    "heuristics={\n",
    "    \"S\":5,\n",
    "    \"A\":3,\n",
    "    \"D\":6,\n",
    "    \"B\":4,\n",
    "    \"C\":2,\n",
    "    \"G\":0,\n",
    "}"
   ]
  },
  {
   "cell_type": "code",
   "execution_count": 9,
   "metadata": {},
   "outputs": [
    {
     "name": "stdout",
     "output_type": "stream",
     "text": [
      "path:  ['S', 'A', 'C', 'G']\n",
      "total cost:  6\n"
     ]
    }
   ],
   "source": [
    "import heapq\n",
    "start_node=\"S\"\n",
    "goal_node=\"G\"\n",
    "goal_reached=0\n",
    "frontier=[(heuristics[start_node],0,[start_node])]\n",
    "cost_so_far={start_node:0}\n",
    "while frontier:\n",
    "    estimated_cost,current_cost,path=heapq.heappop(frontier)\n",
    "    current_node=path[-1]\n",
    "    if current_node==goal_node:\n",
    "        print(\"path: \",path)\n",
    "        print(\"total cost: \",current_cost)\n",
    "        goal_reached=1\n",
    "        break\n",
    "    for neighbor,cost in graph[current_node]:\n",
    "        new_cost=current_cost+cost\n",
    "        if neighbor not in cost_so_far or new_cost < cost_so_far[neighbor]:\n",
    "            cost_so_far[neighbor]=new_cost\n",
    "            priority=new_cost+heuristics[neighbor]\n",
    "            heapq.heappush(frontier,(priority,new_cost,path+[neighbor]))\n",
    "\n",
    "if goal_reached!=1:\n",
    "        print(\"goal not reached\")"
   ]
  },
  {
   "cell_type": "code",
   "execution_count": null,
   "metadata": {},
   "outputs": [],
   "source": []
  }
 ],
 "metadata": {
  "kernelspec": {
   "display_name": "Python 3",
   "language": "python",
   "name": "python3"
  },
  "language_info": {
   "codemirror_mode": {
    "name": "ipython",
    "version": 3
   },
   "file_extension": ".py",
   "mimetype": "text/x-python",
   "name": "python",
   "nbconvert_exporter": "python",
   "pygments_lexer": "ipython3",
   "version": "3.10.9"
  }
 },
 "nbformat": 4,
 "nbformat_minor": 2
}
