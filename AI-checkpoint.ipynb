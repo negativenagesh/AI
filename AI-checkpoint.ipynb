{
 "cells": [
  {
   "cell_type": "code",
   "execution_count": 1,
   "id": "58d5b6c6",
   "metadata": {},
   "outputs": [],
   "source": [
    "days_per_week=7\n",
    "hours_per_day=24\n",
    "minutes_per_hour=60\n",
    "seconds_per_minute=60\n",
    "\n"
   ]
  },
  {
   "cell_type": "code",
   "execution_count": 4,
   "id": "540ee7a4",
   "metadata": {},
   "outputs": [
    {
     "name": "stdout",
     "output_type": "stream",
     "text": [
      "1440\n"
     ]
    }
   ],
   "source": [
    "minutesperday=0;\n",
    "minutesperday=minutes_per_hour*hours_per_day\n",
    "print(minutesperday);"
   ]
  },
  {
   "cell_type": "code",
   "execution_count": 5,
   "id": "a884a27f",
   "metadata": {},
   "outputs": [
    {
     "name": "stdout",
     "output_type": "stream",
     "text": [
      "10080\n"
     ]
    }
   ],
   "source": [
    "minutesperweek=0\n",
    "minutesperweek=minutesperday*days_per_week\n",
    "print(minutesperweek);"
   ]
  },
  {
   "cell_type": "code",
   "execution_count": 10,
   "id": "74e15a92",
   "metadata": {},
   "outputs": [
    {
     "name": "stdout",
     "output_type": "stream",
     "text": [
      "total seconds604800\n"
     ]
    }
   ],
   "source": [
    "secondsperweek=0;\n",
    "secondsperweek=minutesperweek*seconds_per_minute;\n",
    "print(\"total seconds\"+str(secondsperweek));"
   ]
  },
  {
   "cell_type": "code",
   "execution_count": 3,
   "id": "b15ae08f",
   "metadata": {},
   "outputs": [
    {
     "name": "stdout",
     "output_type": "stream",
     "text": [
      "enter temperature5\n",
      "cold\n"
     ]
    }
   ],
   "source": [
    "temp=int(input(\"enter temperature\"))\n",
    "if temp<=10:\n",
    "    print(\"cold\");\n",
    "elif temp>=11&temp<=30:\n",
    "    print(\"warm\");\n",
    "else:\n",
    "    print(\"hot\");\n",
    "\n"
   ]
  },
  {
   "cell_type": "markdown",
   "id": "efe24b5f",
   "metadata": {},
   "source": [
    "## if passsword has numeric, alphabets and special characters with 1 upper case alphabet and 1 lower case alphabet and minimum of 8 characters, then the password is categorised as strong password if password is only alphanumeric with atleast 8 character, classify it as a medium strength else return, password is not acceptable\n"
   ]
  },
  {
   "cell_type": "code",
   "execution_count": null,
   "id": "8c9a764a",
   "metadata": {},
   "outputs": [],
   "source": [
    "def password():\n",
    "    pass=str(input(\"enter the password with minimum 8 characters\");\n",
    "             if pass"
   ]
  },
  {
   "cell_type": "code",
   "execution_count": 8,
   "id": "7fdb155c",
   "metadata": {},
   "outputs": [
    {
     "name": "stdout",
     "output_type": "stream",
     "text": [
      "s = 1234567890\n",
      "isdecimal: True\n",
      "isdigit: True\n",
      "isnumeric: True\n"
     ]
    }
   ],
   "source": [
    "s = '1234567890'\n",
    "print('s =', s)\n",
    "print('isdecimal:', s.isdecimal())\n",
    "print('isdigit:', s.isdigit())\n",
    "print('isnumeric:', s.isnumeric())"
   ]
  },
  {
   "cell_type": "code",
   "execution_count": 12,
   "id": "25cf2ffb",
   "metadata": {},
   "outputs": [
    {
     "name": "stdout",
     "output_type": "stream",
     "text": [
      "Enter your password: 123456789\n",
      "Medium strength\n"
     ]
    }
   ],
   "source": [
    "import re\n",
    "\n",
    "def password_strength(password):\n",
    "    if len(password) < 8:\n",
    "        return \"Password is not acceptable\"\n",
    "    elif re.fullmatch(r'[A-Za-z0-9@#$%^&*(),!?\":{}|<>]+', password) and \\\n",
    "         any(c.islower() for c in password) and \\\n",
    "         any(c.isupper() for c in password) and \\\n",
    "         any(c.isdigit() for c in password):\n",
    "        return \"Strong password\"\n",
    "    elif re.fullmatch(r'[A-Za-z0-9]+', password) and len(password) >= 8:\n",
    "        return \"Medium strength\"\n",
    "    else:\n",
    "        return \"Password is not acceptable\"\n",
    "\n",
    "# Take input from the user\n",
    "password = input(\"Enter your password: \")\n",
    "\n",
    "# Categorize the password and print the result\n",
    "print(password_strength(password))"
   ]
  },
  {
   "cell_type": "code",
   "execution_count": 5,
   "id": "4bdcc319",
   "metadata": {},
   "outputs": [],
   "source": [
    "\n",
    "def f(name):\n",
    "    name=(input(\"enter your first name if you are from Nayak community\"))\n",
    "    print(name + \"Nayak\")\n",
    "    f(name)"
   ]
  },
  {
   "cell_type": "code",
   "execution_count": null,
   "id": "2e770674",
   "metadata": {},
   "outputs": [],
   "source": []
  }
 ],
 "metadata": {
  "kernelspec": {
   "display_name": "Python 3 (ipykernel)",
   "language": "python",
   "name": "python3"
  },
  "language_info": {
   "codemirror_mode": {
    "name": "ipython",
    "version": 3
   },
   "file_extension": ".py",
   "mimetype": "text/x-python",
   "name": "python",
   "nbconvert_exporter": "python",
   "pygments_lexer": "ipython3",
   "version": "3.9.17"
  }
 },
 "nbformat": 4,
 "nbformat_minor": 5
}
